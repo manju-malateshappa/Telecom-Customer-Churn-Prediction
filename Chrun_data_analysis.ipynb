{
  "nbformat": 4,
  "nbformat_minor": 0,
  "metadata": {
    "colab": {
      "name": "Chrun_data_analysis",
      "provenance": [],
      "collapsed_sections": [],
      "toc_visible": true,
      "include_colab_link": true
    },
    "kernelspec": {
      "name": "python3",
      "display_name": "Python 3"
    },
    "accelerator": "GPU"
  },
  "cells": [
    {
      "cell_type": "markdown",
      "metadata": {
        "id": "view-in-github",
        "colab_type": "text"
      },
      "source": [
        "<a href=\"https://colab.research.google.com/github/manjum2050/Telecom-Customer-Churn-Prediction/blob/master/Chrun_data_analysis.ipynb\" target=\"_parent\"><img src=\"https://colab.research.google.com/assets/colab-badge.svg\" alt=\"Open In Colab\"/></a>"
      ]
    },
    {
      "cell_type": "code",
      "metadata": {
        "id": "_ByTHqnPDukn",
        "colab_type": "code",
        "outputId": "134cdb4d-d58a-4958-ca03-309922d9699b",
        "colab": {
          "base_uri": "https://localhost:8080/",
          "height": 54
        }
      },
      "source": [
        "from google.colab import drive\n",
        "drive.mount('/content/drive')"
      ],
      "execution_count": 297,
      "outputs": [
        {
          "output_type": "stream",
          "text": [
            "Drive already mounted at /content/drive; to attempt to forcibly remount, call drive.mount(\"/content/drive\", force_remount=True).\n"
          ],
          "name": "stdout"
        }
      ]
    },
    {
      "cell_type": "code",
      "metadata": {
        "id": "x1HvYDrvor2i",
        "colab_type": "code",
        "colab": {}
      },
      "source": [
        "#@title Install What-If Tool Widget and SHAP library\n",
        "!pip install --upgrade --quiet witwidget shap"
      ],
      "execution_count": 0,
      "outputs": []
    },
    {
      "cell_type": "code",
      "metadata": {
        "id": "dvXgkSb9F8vm",
        "colab_type": "code",
        "colab": {}
      },
      "source": [
        "import pandas as pd\n",
        "import numpy as np\n",
        "import tensorflow as tf\n",
        "import witwidget\n",
        "import os\n",
        "import pickle\n",
        "import shap\n",
        "\n",
        "import matplotlib.pyplot as plt\n",
        "import seaborn as sns\n",
        "\n",
        "from string import ascii_uppercase\n",
        "from pandas import DataFrame\n",
        "\n",
        "from sklearn.metrics import confusion_matrix\n",
        "from sklearn.metrics import accuracy_score\n",
        "from sklearn.metrics import precision_score\n",
        "from sklearn.metrics import recall_score\n",
        "from sklearn.metrics import f1_score\n",
        "from sklearn.metrics import classification_report\n",
        "\n",
        "from tensorflow.keras.layers import Dense\n",
        "from tensorflow.keras.models import Sequential\n",
        "\n",
        "from sklearn.utils import shuffle\n",
        "from tensorflow import keras"
      ],
      "execution_count": 0,
      "outputs": []
    },
    {
      "cell_type": "code",
      "metadata": {
        "id": "NlkOLDh0GSgm",
        "colab_type": "code",
        "colab": {}
      },
      "source": [
        "df = pd.read_csv('/content/drive/My Drive/Colab_datasets/churn_dataset.csv')"
      ],
      "execution_count": 0,
      "outputs": []
    },
    {
      "cell_type": "code",
      "metadata": {
        "id": "3qumqiUES7kH",
        "colab_type": "code",
        "outputId": "ac2ab4b1-6c09-41ef-ddeb-5d012dcadb3a",
        "colab": {
          "base_uri": "https://localhost:8080/",
          "height": 51
        }
      },
      "source": [
        "list(df)"
      ],
      "execution_count": 301,
      "outputs": [
        {
          "output_type": "execute_result",
          "data": {
            "text/html": [
              "['customerID', 'gender', 'SeniorCitizen', 'Partner', 'Dependents', 'tenure', 'PhoneService', 'MultipleLines', 'InternetService', 'OnlineSecurity', 'OnlineBackup', 'DeviceProtection', 'TechSupport', 'StreamingTV', 'StreamingMovies', 'Contract', 'PaperlessBilling', 'PaymentMethod', 'MonthlyCharges', 'TotalCharges', 'Churn']"
            ],
            "text/plain": [
              "['customerID',\n",
              " 'gender',\n",
              " 'SeniorCitizen',\n",
              " 'Partner',\n",
              " 'Dependents',\n",
              " 'tenure',\n",
              " 'PhoneService',\n",
              " 'MultipleLines',\n",
              " 'InternetService',\n",
              " 'OnlineSecurity',\n",
              " 'OnlineBackup',\n",
              " 'DeviceProtection',\n",
              " 'TechSupport',\n",
              " 'StreamingTV',\n",
              " 'StreamingMovies',\n",
              " 'Contract',\n",
              " 'PaperlessBilling',\n",
              " 'PaymentMethod',\n",
              " 'MonthlyCharges',\n",
              " 'TotalCharges',\n",
              " 'Churn']"
            ]
          },
          "metadata": {
            "tags": []
          },
          "execution_count": 301
        }
      ]
    },
    {
      "cell_type": "code",
      "metadata": {
        "id": "EzkMhPEPGJH3",
        "colab_type": "code",
        "outputId": "7e542e5b-1900-45ce-ab5d-5d8490359d82",
        "colab": {
          "base_uri": "https://localhost:8080/",
          "height": 34
        }
      },
      "source": [
        "#Structure of the dataset\n",
        "print(df.shape)"
      ],
      "execution_count": 302,
      "outputs": [
        {
          "output_type": "stream",
          "text": [
            "(7043, 21)\n"
          ],
          "name": "stdout"
        }
      ]
    },
    {
      "cell_type": "code",
      "metadata": {
        "id": "fCC9BBxrG552",
        "colab_type": "code",
        "colab": {}
      },
      "source": [
        "data = df.copy()"
      ],
      "execution_count": 0,
      "outputs": []
    },
    {
      "cell_type": "code",
      "metadata": {
        "id": "kmiX90QdG36a",
        "colab_type": "code",
        "outputId": "6a3c73bf-c64e-4641-962f-429d34cf8695",
        "colab": {
          "base_uri": "https://localhost:8080/",
          "height": 731
        }
      },
      "source": [
        "#Examining the missing values amd displaying the percentage of null values in each feature column\n",
        "\n",
        "feature_names= list(data)\n",
        "for i in feature_names:\n",
        "    null_values = data[i].isnull().sum()\n",
        "    nrow = data[i].count()\n",
        "    missing_value_percent = (null_values/nrow)*100\n",
        "    print(i +\" \" + \":\" + \" \" + \"Null_value_Percentage\" + \"=\" + str(missing_value_percent) + \"%\",\"\\n\")\n",
        " "
      ],
      "execution_count": 304,
      "outputs": [
        {
          "output_type": "stream",
          "text": [
            "customerID : Null_value_Percentage=0.0% \n",
            "\n",
            "gender : Null_value_Percentage=0.0% \n",
            "\n",
            "SeniorCitizen : Null_value_Percentage=0.0% \n",
            "\n",
            "Partner : Null_value_Percentage=0.0% \n",
            "\n",
            "Dependents : Null_value_Percentage=0.0% \n",
            "\n",
            "tenure : Null_value_Percentage=0.0% \n",
            "\n",
            "PhoneService : Null_value_Percentage=0.0% \n",
            "\n",
            "MultipleLines : Null_value_Percentage=0.0% \n",
            "\n",
            "InternetService : Null_value_Percentage=0.0% \n",
            "\n",
            "OnlineSecurity : Null_value_Percentage=0.0% \n",
            "\n",
            "OnlineBackup : Null_value_Percentage=0.0% \n",
            "\n",
            "DeviceProtection : Null_value_Percentage=0.0% \n",
            "\n",
            "TechSupport : Null_value_Percentage=0.0% \n",
            "\n",
            "StreamingTV : Null_value_Percentage=0.0% \n",
            "\n",
            "StreamingMovies : Null_value_Percentage=0.0% \n",
            "\n",
            "Contract : Null_value_Percentage=0.0% \n",
            "\n",
            "PaperlessBilling : Null_value_Percentage=0.0% \n",
            "\n",
            "PaymentMethod : Null_value_Percentage=0.0% \n",
            "\n",
            "MonthlyCharges : Null_value_Percentage=0.0% \n",
            "\n",
            "TotalCharges : Null_value_Percentage=0.0% \n",
            "\n",
            "Churn : Null_value_Percentage=0.0% \n",
            "\n"
          ],
          "name": "stdout"
        }
      ]
    },
    {
      "cell_type": "code",
      "metadata": {
        "id": "cHL6WDA7HLCB",
        "colab_type": "code",
        "outputId": "a6f5af63-e614-4362-d7a2-0b4b43ae3cef",
        "colab": {
          "base_uri": "https://localhost:8080/",
          "height": 391
        }
      },
      "source": [
        "#Checking for Null values in the dataset\n",
        "print(data.isnull().sum())"
      ],
      "execution_count": 305,
      "outputs": [
        {
          "output_type": "stream",
          "text": [
            "customerID          0\n",
            "gender              0\n",
            "SeniorCitizen       0\n",
            "Partner             0\n",
            "Dependents          0\n",
            "tenure              0\n",
            "PhoneService        0\n",
            "MultipleLines       0\n",
            "InternetService     0\n",
            "OnlineSecurity      0\n",
            "OnlineBackup        0\n",
            "DeviceProtection    0\n",
            "TechSupport         0\n",
            "StreamingTV         0\n",
            "StreamingMovies     0\n",
            "Contract            0\n",
            "PaperlessBilling    0\n",
            "PaymentMethod       0\n",
            "MonthlyCharges      0\n",
            "TotalCharges        0\n",
            "Churn               0\n",
            "dtype: int64\n"
          ],
          "name": "stdout"
        }
      ]
    },
    {
      "cell_type": "code",
      "metadata": {
        "id": "K9erpdmUHWVj",
        "colab_type": "code",
        "outputId": "d25d7e3a-1080-407f-c3c5-947e00cb7c44",
        "colab": {
          "base_uri": "https://localhost:8080/",
          "height": 51
        }
      },
      "source": [
        "# From EDA we can see that the 'TotalCharges' feature column has few row values unspecified types\n",
        "np.unique(data.TotalCharges.values)"
      ],
      "execution_count": 306,
      "outputs": [
        {
          "output_type": "execute_result",
          "data": {
            "text/plain": [
              "array([' ', '100.2', '100.25', ..., '999.45', '999.8', '999.9'],\n",
              "      dtype=object)"
            ]
          },
          "metadata": {
            "tags": []
          },
          "execution_count": 306
        }
      ]
    },
    {
      "cell_type": "code",
      "metadata": {
        "id": "iYeGFhLFMAg3",
        "colab_type": "code",
        "colab": {}
      },
      "source": [
        "# Replacing the empty spaces with Null types\n",
        "data = data.replace(r'^\\s*$', np.nan, regex=True)"
      ],
      "execution_count": 0,
      "outputs": []
    },
    {
      "cell_type": "code",
      "metadata": {
        "id": "y5KV79IVMA3O",
        "colab_type": "code",
        "colab": {}
      },
      "source": [
        "#Converting the column type for TotalCharges to Float types\n",
        "data['TotalCharges'] = pd.to_numeric(data['TotalCharges'])"
      ],
      "execution_count": 0,
      "outputs": []
    },
    {
      "cell_type": "code",
      "metadata": {
        "id": "O-tbVn5jMJvV",
        "colab_type": "code",
        "outputId": "4462d598-ccd7-4c1c-c024-7f93304fdc09",
        "colab": {
          "base_uri": "https://localhost:8080/",
          "height": 170
        }
      },
      "source": [
        "#Checking the statistics of the column to decide wether to replace the missing value or drop the rows\n",
        "data['TotalCharges'].describe()"
      ],
      "execution_count": 309,
      "outputs": [
        {
          "output_type": "execute_result",
          "data": {
            "text/plain": [
              "count    7032.000000\n",
              "mean     2283.300441\n",
              "std      2266.771362\n",
              "min        18.800000\n",
              "25%       401.450000\n",
              "50%      1397.475000\n",
              "75%      3794.737500\n",
              "max      8684.800000\n",
              "Name: TotalCharges, dtype: float64"
            ]
          },
          "metadata": {
            "tags": []
          },
          "execution_count": 309
        }
      ]
    },
    {
      "cell_type": "code",
      "metadata": {
        "id": "UrDtd1YWMVSG",
        "colab_type": "code",
        "outputId": "4fa01e1e-e417-446f-a79e-836c310569f0",
        "colab": {
          "base_uri": "https://localhost:8080/",
          "height": 316
        }
      },
      "source": [
        "#Checking the Target feature 'Churn' after dropping the rows with missing values\n",
        "data = data.dropna()\n",
        "print(\"shape:\",data.shape,\"\\n\")\n",
        "churn_list=['Yes','No']\n",
        "Y = (data['Churn']=='Yes').sum()\n",
        "N = (data['Churn']=='No').sum()\n",
        "Heights=[Y,N]\n",
        "print(churn_list,Heights)\n",
        "plt.bar(churn_list, Heights);"
      ],
      "execution_count": 310,
      "outputs": [
        {
          "output_type": "stream",
          "text": [
            "shape: (7032, 21) \n",
            "\n",
            "['Yes', 'No'] [1869, 5163]\n"
          ],
          "name": "stdout"
        },
        {
          "output_type": "display_data",
          "data": {
            "image/png": "[encoded data removed]",
            "text/plain": [
              "<Figure size 432x288 with 1 Axes>"
            ]
          },
          "metadata": {
            "tags": []
          }
        }
      ]
    },
    {
      "cell_type": "code",
      "metadata": {
        "id": "Au-jk18sNRNT",
        "colab_type": "code",
        "outputId": "ff3dadcb-be2a-43f7-f492-e65b4deac877",
        "colab": {
          "base_uri": "https://localhost:8080/",
          "height": 386
        }
      },
      "source": [
        "sns.catplot(x='Churn',y='MonthlyCharges', data=data)"
      ],
      "execution_count": 311,
      "outputs": [
        {
          "output_type": "execute_result",
          "data": {
            "text/plain": [
              "<seaborn.axisgrid.FacetGrid at 0x7fcc596aad30>"
            ]
          },
          "metadata": {
            "tags": []
          },
          "execution_count": 311
        },
        {
          "output_type": "display_data",
          "data": {
            "image/png": "[encoded data removed]",
            "text/plain": [
              "<Figure size 360x360 with 1 Axes>"
            ]
          },
          "metadata": {
            "tags": []
          }
        }
      ]
    },
    {
      "cell_type": "code",
      "metadata": {
        "id": "fzqvU6hhMW_w",
        "colab_type": "code",
        "outputId": "e2ff68ea-a88a-4527-d954-7251c22a8294",
        "colab": {
          "base_uri": "https://localhost:8080/",
          "height": 386
        }
      },
      "source": [
        "sns.catplot(x='Churn', y='TotalCharges', data= data)"
      ],
      "execution_count": 312,
      "outputs": [
        {
          "output_type": "execute_result",
          "data": {
            "text/plain": [
              "<seaborn.axisgrid.FacetGrid at 0x7fcc56ff7b70>"
            ]
          },
          "metadata": {
            "tags": []
          },
          "execution_count": 312
        },
        {
          "output_type": "display_data",
          "data": {
            "image/png": "[encoded data removed]",
            "text/plain": [
              "<Figure size 360x360 with 1 Axes>"
            ]
          },
          "metadata": {
            "tags": []
          }
        }
      ]
    },
    {
      "cell_type": "code",
      "metadata": {
        "id": "dQ1ZPApYNW-2",
        "colab_type": "code",
        "outputId": "0dd29c0a-fc01-42bd-a32e-638ea3f56114",
        "colab": {
          "base_uri": "https://localhost:8080/",
          "height": 386
        }
      },
      "source": [
        "sns.catplot(x='Churn', y='tenure', data=data)"
      ],
      "execution_count": 313,
      "outputs": [
        {
          "output_type": "execute_result",
          "data": {
            "text/plain": [
              "<seaborn.axisgrid.FacetGrid at 0x7fcc5414d7f0>"
            ]
          },
          "metadata": {
            "tags": []
          },
          "execution_count": 313
        },
        {
          "output_type": "display_data",
          "data": {
            "image/png": "[encoded data removed]",
            "text/plain": [
              "<Figure size 360x360 with 1 Axes>"
            ]
          },
          "metadata": {
            "tags": []
          }
        }
      ]
    },
    {
      "cell_type": "code",
      "metadata": {
        "id": "vjO941-mNZcE",
        "colab_type": "code",
        "outputId": "2ba00e00-c3c5-41c1-8d20-b2f5060b011b",
        "colab": {
          "base_uri": "https://localhost:8080/",
          "height": 493
        }
      },
      "source": [
        "#resetting the index so that there wont be any prob while merging different dataframes\n",
        "data.reset_index(drop=True, inplace=True)\n",
        "data.info()"
      ],
      "execution_count": 314,
      "outputs": [
        {
          "output_type": "stream",
          "text": [
            "<class 'pandas.core.frame.DataFrame'>\n",
            "RangeIndex: 7032 entries, 0 to 7031\n",
            "Data columns (total 21 columns):\n",
            " #   Column            Non-Null Count  Dtype  \n",
            "---  ------            --------------  -----  \n",
            " 0   customerID        7032 non-null   object \n",
            " 1   gender            7032 non-null   object \n",
            " 2   SeniorCitizen     7032 non-null   int64  \n",
            " 3   Partner           7032 non-null   object \n",
            " 4   Dependents        7032 non-null   object \n",
            " 5   tenure            7032 non-null   int64  \n",
            " 6   PhoneService      7032 non-null   object \n",
            " 7   MultipleLines     7032 non-null   object \n",
            " 8   InternetService   7032 non-null   object \n",
            " 9   OnlineSecurity    7032 non-null   object \n",
            " 10  OnlineBackup      7032 non-null   object \n",
            " 11  DeviceProtection  7032 non-null   object \n",
            " 12  TechSupport       7032 non-null   object \n",
            " 13  StreamingTV       7032 non-null   object \n",
            " 14  StreamingMovies   7032 non-null   object \n",
            " 15  Contract          7032 non-null   object \n",
            " 16  PaperlessBilling  7032 non-null   object \n",
            " 17  PaymentMethod     7032 non-null   object \n",
            " 18  MonthlyCharges    7032 non-null   float64\n",
            " 19  TotalCharges      7032 non-null   float64\n",
            " 20  Churn             7032 non-null   object \n",
            "dtypes: float64(2), int64(2), object(17)\n",
            "memory usage: 1.1+ MB\n"
          ],
          "name": "stdout"
        }
      ]
    },
    {
      "cell_type": "code",
      "metadata": {
        "id": "kN4wGZCbNeSm",
        "colab_type": "code",
        "outputId": "32906934-40c8-4291-fd54-8042aad3998c",
        "colab": {
          "base_uri": "https://localhost:8080/",
          "height": 672
        }
      },
      "source": [
        "#Correlation matrix for all the features\n",
        "plt.figure(figsize=(10,10))\n",
        "corr_mat = data.apply(lambda x: pd.factorize(x)[0]).corr()\n",
        "ax = sns.heatmap(corr_mat, xticklabels=corr_mat.columns, yticklabels=corr_mat.columns, linewidths=.2, cmap='Blues')"
      ],
      "execution_count": 315,
      "outputs": [
        {
          "output_type": "display_data",
          "data": {
            "image/png": "[encoded data removed]",
            "text/plain": [
              "<Figure size 720x720 with 2 Axes>"
            ]
          },
          "metadata": {
            "tags": []
          }
        }
      ]
    },
    {
      "cell_type": "code",
      "metadata": {
        "id": "dZ7Hr8n5NlXd",
        "colab_type": "code",
        "colab": {}
      },
      "source": [
        "#@title TotalCharges shows a very high correlation with customerID. We can drop customerID hence. Also it does not seem to be a important feature for the model."
      ],
      "execution_count": 0,
      "outputs": []
    },
    {
      "cell_type": "code",
      "metadata": {
        "id": "s3TWnGwfOOSl",
        "colab_type": "code",
        "colab": {}
      },
      "source": [
        "#@title Feature Engineering"
      ],
      "execution_count": 0,
      "outputs": []
    },
    {
      "cell_type": "code",
      "metadata": {
        "id": "chkWl4-SPU3e",
        "colab_type": "code",
        "outputId": "69e64e5a-af62-44dc-9b0d-dbf7a56090cb",
        "colab": {
          "base_uri": "https://localhost:8080/",
          "height": 51
        }
      },
      "source": [
        "list(data)"
      ],
      "execution_count": 318,
      "outputs": [
        {
          "output_type": "execute_result",
          "data": {
            "text/html": [
              "['customerID', 'gender', 'SeniorCitizen', 'Partner', 'Dependents', 'tenure', 'PhoneService', 'MultipleLines', 'InternetService', 'OnlineSecurity', 'OnlineBackup', 'DeviceProtection', 'TechSupport', 'StreamingTV', 'StreamingMovies', 'Contract', 'PaperlessBilling', 'PaymentMethod', 'MonthlyCharges', 'TotalCharges', 'Churn']"
            ],
            "text/plain": [
              "['customerID',\n",
              " 'gender',\n",
              " 'SeniorCitizen',\n",
              " 'Partner',\n",
              " 'Dependents',\n",
              " 'tenure',\n",
              " 'PhoneService',\n",
              " 'MultipleLines',\n",
              " 'InternetService',\n",
              " 'OnlineSecurity',\n",
              " 'OnlineBackup',\n",
              " 'DeviceProtection',\n",
              " 'TechSupport',\n",
              " 'StreamingTV',\n",
              " 'StreamingMovies',\n",
              " 'Contract',\n",
              " 'PaperlessBilling',\n",
              " 'PaymentMethod',\n",
              " 'MonthlyCharges',\n",
              " 'TotalCharges',\n",
              " 'Churn']"
            ]
          },
          "metadata": {
            "tags": []
          },
          "execution_count": 318
        }
      ]
    },
    {
      "cell_type": "code",
      "metadata": {
        "id": "sX7fIuCOPVPz",
        "colab_type": "code",
        "colab": {}
      },
      "source": [
        "#Converting the 'Churn' feature values to 0(No) and 1(Yes) \n",
        "data['Churn'] = data['Churn'].map({'Yes': 1, 'No': 0})\n",
        "\n",
        "# Label encoding for Gender feature\n",
        "data['gender'] = data['gender'].map({'Male': 1, 'Female': 0})\n",
        "\n",
        "#label encoding for other binary feature columns having Yes/No\n",
        "B_list = ['Partner','Dependents','PhoneService','PaperlessBilling']\n",
        "data[B_list] = data[B_list].replace({'Yes':1, 'No':0})\n"
      ],
      "execution_count": 0,
      "outputs": []
    },
    {
      "cell_type": "code",
      "metadata": {
        "id": "RZKlUt7QP7Nv",
        "colab_type": "code",
        "colab": {}
      },
      "source": [
        "# One Hot Encoding for Categorical List(Having more than two options)\n",
        "\n",
        "cat_list = ['MultipleLines', 'InternetService','OnlineSecurity', 'OnlineBackup', 'DeviceProtection','TechSupport',\n",
        "            'StreamingTV', 'StreamingMovies','Contract','PaymentMethod']\n",
        "cat_onehotenc = pd.get_dummies(data[cat_list])"
      ],
      "execution_count": 0,
      "outputs": []
    },
    {
      "cell_type": "code",
      "metadata": {
        "id": "3LI9C32lP7ga",
        "colab_type": "code",
        "colab": {}
      },
      "source": [
        "# Scaling of the Numeric columns using MinMax Scaling\n",
        "num_list = ['tenure','MonthlyCharges','TotalCharges']\n",
        "\n",
        "from sklearn.preprocessing import MinMaxScaler\n",
        "scaler = MinMaxScaler()\n",
        "scaled_list = pd.DataFrame(data=scaler.fit_transform(data[num_list]), columns = num_list)"
      ],
      "execution_count": 0,
      "outputs": []
    },
    {
      "cell_type": "code",
      "metadata": {
        "id": "qYgdXYsjQCMW",
        "colab_type": "code",
        "outputId": "dfffcb42-cc14-4b68-b0ef-ad6f09a57a92",
        "colab": {
          "base_uri": "https://localhost:8080/",
          "height": 419
        }
      },
      "source": [
        "scaled_list"
      ],
      "execution_count": 322,
      "outputs": [
        {
          "output_type": "execute_result",
          "data": {
            "text/html": [
              "<div>\n",
              "<style scoped>\n",
              "    .dataframe tbody tr th:only-of-type {\n",
              "        vertical-align: middle;\n",
              "    }\n",
              "\n",
              "    .dataframe tbody tr th {\n",
              "        vertical-align: top;\n",
              "    }\n",
              "\n",
              "    .dataframe thead th {\n",
              "        text-align: right;\n",
              "    }\n",
              "</style>\n",
              "<table border=\"1\" class=\"dataframe\">\n",
              "  <thead>\n",
              "    <tr style=\"text-align: right;\">\n",
              "      <th></th>\n",
              "      <th>tenure</th>\n",
              "      <th>MonthlyCharges</th>\n",
              "      <th>TotalCharges</th>\n",
              "    </tr>\n",
              "  </thead>\n",
              "  <tbody>\n",
              "    <tr>\n",
              "      <th>0</th>\n",
              "      <td>0.000000</td>\n",
              "      <td>0.115423</td>\n",
              "      <td>0.001275</td>\n",
              "    </tr>\n",
              "    <tr>\n",
              "      <th>1</th>\n",
              "      <td>0.464789</td>\n",
              "      <td>0.385075</td>\n",
              "      <td>0.215867</td>\n",
              "    </tr>\n",
              "    <tr>\n",
              "      <th>2</th>\n",
              "      <td>0.014085</td>\n",
              "      <td>0.354229</td>\n",
              "      <td>0.010310</td>\n",
              "    </tr>\n",
              "    <tr>\n",
              "      <th>3</th>\n",
              "      <td>0.619718</td>\n",
              "      <td>0.239303</td>\n",
              "      <td>0.210241</td>\n",
              "    </tr>\n",
              "    <tr>\n",
              "      <th>4</th>\n",
              "      <td>0.014085</td>\n",
              "      <td>0.521891</td>\n",
              "      <td>0.015330</td>\n",
              "    </tr>\n",
              "    <tr>\n",
              "      <th>...</th>\n",
              "      <td>...</td>\n",
              "      <td>...</td>\n",
              "      <td>...</td>\n",
              "    </tr>\n",
              "    <tr>\n",
              "      <th>7027</th>\n",
              "      <td>0.323944</td>\n",
              "      <td>0.662189</td>\n",
              "      <td>0.227521</td>\n",
              "    </tr>\n",
              "    <tr>\n",
              "      <th>7028</th>\n",
              "      <td>1.000000</td>\n",
              "      <td>0.845274</td>\n",
              "      <td>0.847461</td>\n",
              "    </tr>\n",
              "    <tr>\n",
              "      <th>7029</th>\n",
              "      <td>0.140845</td>\n",
              "      <td>0.112935</td>\n",
              "      <td>0.037809</td>\n",
              "    </tr>\n",
              "    <tr>\n",
              "      <th>7030</th>\n",
              "      <td>0.042254</td>\n",
              "      <td>0.558706</td>\n",
              "      <td>0.033210</td>\n",
              "    </tr>\n",
              "    <tr>\n",
              "      <th>7031</th>\n",
              "      <td>0.915493</td>\n",
              "      <td>0.869652</td>\n",
              "      <td>0.787641</td>\n",
              "    </tr>\n",
              "  </tbody>\n",
              "</table>\n",
              "<p>7032 rows × 3 columns</p>\n",
              "</div>"
            ],
            "text/plain": [
              "        tenure  MonthlyCharges  TotalCharges\n",
              "0     0.000000        0.115423      0.001275\n",
              "1     0.464789        0.385075      0.215867\n",
              "2     0.014085        0.354229      0.010310\n",
              "3     0.619718        0.239303      0.210241\n",
              "4     0.014085        0.521891      0.015330\n",
              "...        ...             ...           ...\n",
              "7027  0.323944        0.662189      0.227521\n",
              "7028  1.000000        0.845274      0.847461\n",
              "7029  0.140845        0.112935      0.037809\n",
              "7030  0.042254        0.558706      0.033210\n",
              "7031  0.915493        0.869652      0.787641\n",
              "\n",
              "[7032 rows x 3 columns]"
            ]
          },
          "metadata": {
            "tags": []
          },
          "execution_count": 322
        }
      ]
    },
    {
      "cell_type": "code",
      "metadata": {
        "id": "fFRNn4QoQC7O",
        "colab_type": "code",
        "colab": {}
      },
      "source": [
        "data1 = data.drop(columns=cat_list)\n",
        "data1 = data1.drop(columns=num_list)\n",
        "# merging the dataframes\n",
        "data2 = pd.concat([data1, scaled_list, cat_onehotenc], axis=1)"
      ],
      "execution_count": 0,
      "outputs": []
    },
    {
      "cell_type": "code",
      "metadata": {
        "id": "tvVxdgOnQGvY",
        "colab_type": "code",
        "outputId": "011f0c42-7db6-47e6-c56d-d7bd87ee0cbe",
        "colab": {
          "base_uri": "https://localhost:8080/",
          "height": 473
        }
      },
      "source": [
        "data_fin = data2.drop(columns='customerID')\n",
        "data_fin"
      ],
      "execution_count": 324,
      "outputs": [
        {
          "output_type": "execute_result",
          "data": {
            "text/html": [
              "<div>\n",
              "<style scoped>\n",
              "    .dataframe tbody tr th:only-of-type {\n",
              "        vertical-align: middle;\n",
              "    }\n",
              "\n",
              "    .dataframe tbody tr th {\n",
              "        vertical-align: top;\n",
              "    }\n",
              "\n",
              "    .dataframe thead th {\n",
              "        text-align: right;\n",
              "    }\n",
              "</style>\n",
              "<table border=\"1\" class=\"dataframe\">\n",
              "  <thead>\n",
              "    <tr style=\"text-align: right;\">\n",
              "      <th></th>\n",
              "      <th>gender</th>\n",
              "      <th>SeniorCitizen</th>\n",
              "      <th>Partner</th>\n",
              "      <th>Dependents</th>\n",
              "      <th>PhoneService</th>\n",
              "      <th>PaperlessBilling</th>\n",
              "      <th>Churn</th>\n",
              "      <th>tenure</th>\n",
              "      <th>MonthlyCharges</th>\n",
              "      <th>TotalCharges</th>\n",
              "      <th>MultipleLines_No</th>\n",
              "      <th>MultipleLines_No phone service</th>\n",
              "      <th>MultipleLines_Yes</th>\n",
              "      <th>InternetService_DSL</th>\n",
              "      <th>InternetService_Fiber optic</th>\n",
              "      <th>InternetService_No</th>\n",
              "      <th>OnlineSecurity_No</th>\n",
              "      <th>OnlineSecurity_No internet service</th>\n",
              "      <th>OnlineSecurity_Yes</th>\n",
              "      <th>OnlineBackup_No</th>\n",
              "      <th>OnlineBackup_No internet service</th>\n",
              "      <th>OnlineBackup_Yes</th>\n",
              "      <th>DeviceProtection_No</th>\n",
              "      <th>DeviceProtection_No internet service</th>\n",
              "      <th>DeviceProtection_Yes</th>\n",
              "      <th>TechSupport_No</th>\n",
              "      <th>TechSupport_No internet service</th>\n",
              "      <th>TechSupport_Yes</th>\n",
              "      <th>StreamingTV_No</th>\n",
              "      <th>StreamingTV_No internet service</th>\n",
              "      <th>StreamingTV_Yes</th>\n",
              "      <th>StreamingMovies_No</th>\n",
              "      <th>StreamingMovies_No internet service</th>\n",
              "      <th>StreamingMovies_Yes</th>\n",
              "      <th>Contract_Month-to-month</th>\n",
              "      <th>Contract_One year</th>\n",
              "      <th>Contract_Two year</th>\n",
              "      <th>PaymentMethod_Bank transfer (automatic)</th>\n",
              "      <th>PaymentMethod_Credit card (automatic)</th>\n",
              "      <th>PaymentMethod_Electronic check</th>\n",
              "      <th>PaymentMethod_Mailed check</th>\n",
              "    </tr>\n",
              "  </thead>\n",
              "  <tbody>\n",
              "    <tr>\n",
              "      <th>0</th>\n",
              "      <td>0</td>\n",
              "      <td>0</td>\n",
              "      <td>1</td>\n",
              "      <td>0</td>\n",
              "      <td>0</td>\n",
              "      <td>1</td>\n",
              "      <td>0</td>\n",
              "      <td>0.000000</td>\n",
              "      <td>0.115423</td>\n",
              "      <td>0.001275</td>\n",
              "      <td>0</td>\n",
              "      <td>1</td>\n",
              "      <td>0</td>\n",
              "      <td>1</td>\n",
              "      <td>0</td>\n",
              "      <td>0</td>\n",
              "      <td>1</td>\n",
              "      <td>0</td>\n",
              "      <td>0</td>\n",
              "      <td>0</td>\n",
              "      <td>0</td>\n",
              "      <td>1</td>\n",
              "      <td>1</td>\n",
              "      <td>0</td>\n",
              "      <td>0</td>\n",
              "      <td>1</td>\n",
              "      <td>0</td>\n",
              "      <td>0</td>\n",
              "      <td>1</td>\n",
              "      <td>0</td>\n",
              "      <td>0</td>\n",
              "      <td>1</td>\n",
              "      <td>0</td>\n",
              "      <td>0</td>\n",
              "      <td>1</td>\n",
              "      <td>0</td>\n",
              "      <td>0</td>\n",
              "      <td>0</td>\n",
              "      <td>0</td>\n",
              "      <td>1</td>\n",
              "      <td>0</td>\n",
              "    </tr>\n",
              "    <tr>\n",
              "      <th>1</th>\n",
              "      <td>1</td>\n",
              "      <td>0</td>\n",
              "      <td>0</td>\n",
              "      <td>0</td>\n",
              "      <td>1</td>\n",
              "      <td>0</td>\n",
              "      <td>0</td>\n",
              "      <td>0.464789</td>\n",
              "      <td>0.385075</td>\n",
              "      <td>0.215867</td>\n",
              "      <td>1</td>\n",
              "      <td>0</td>\n",
              "      <td>0</td>\n",
              "      <td>1</td>\n",
              "      <td>0</td>\n",
              "      <td>0</td>\n",
              "      <td>0</td>\n",
              "      <td>0</td>\n",
              "      <td>1</td>\n",
              "      <td>1</td>\n",
              "      <td>0</td>\n",
              "      <td>0</td>\n",
              "      <td>0</td>\n",
              "      <td>0</td>\n",
              "      <td>1</td>\n",
              "      <td>1</td>\n",
              "      <td>0</td>\n",
              "      <td>0</td>\n",
              "      <td>1</td>\n",
              "      <td>0</td>\n",
              "      <td>0</td>\n",
              "      <td>1</td>\n",
              "      <td>0</td>\n",
              "      <td>0</td>\n",
              "      <td>0</td>\n",
              "      <td>1</td>\n",
              "      <td>0</td>\n",
              "      <td>0</td>\n",
              "      <td>0</td>\n",
              "      <td>0</td>\n",
              "      <td>1</td>\n",
              "    </tr>\n",
              "    <tr>\n",
              "      <th>2</th>\n",
              "      <td>1</td>\n",
              "      <td>0</td>\n",
              "      <td>0</td>\n",
              "      <td>0</td>\n",
              "      <td>1</td>\n",
              "      <td>1</td>\n",
              "      <td>1</td>\n",
              "      <td>0.014085</td>\n",
              "      <td>0.354229</td>\n",
              "      <td>0.010310</td>\n",
              "      <td>1</td>\n",
              "      <td>0</td>\n",
              "      <td>0</td>\n",
              "      <td>1</td>\n",
              "      <td>0</td>\n",
              "      <td>0</td>\n",
              "      <td>0</td>\n",
              "      <td>0</td>\n",
              "      <td>1</td>\n",
              "      <td>0</td>\n",
              "      <td>0</td>\n",
              "      <td>1</td>\n",
              "      <td>1</td>\n",
              "      <td>0</td>\n",
              "      <td>0</td>\n",
              "      <td>1</td>\n",
              "      <td>0</td>\n",
              "      <td>0</td>\n",
              "      <td>1</td>\n",
              "      <td>0</td>\n",
              "      <td>0</td>\n",
              "      <td>1</td>\n",
              "      <td>0</td>\n",
              "      <td>0</td>\n",
              "      <td>1</td>\n",
              "      <td>0</td>\n",
              "      <td>0</td>\n",
              "      <td>0</td>\n",
              "      <td>0</td>\n",
              "      <td>0</td>\n",
              "      <td>1</td>\n",
              "    </tr>\n",
              "    <tr>\n",
              "      <th>3</th>\n",
              "      <td>1</td>\n",
              "      <td>0</td>\n",
              "      <td>0</td>\n",
              "      <td>0</td>\n",
              "      <td>0</td>\n",
              "      <td>0</td>\n",
              "      <td>0</td>\n",
              "      <td>0.619718</td>\n",
              "      <td>0.239303</td>\n",
              "      <td>0.210241</td>\n",
              "      <td>0</td>\n",
              "      <td>1</td>\n",
              "      <td>0</td>\n",
              "      <td>1</td>\n",
              "      <td>0</td>\n",
              "      <td>0</td>\n",
              "      <td>0</td>\n",
              "      <td>0</td>\n",
              "      <td>1</td>\n",
              "      <td>1</td>\n",
              "      <td>0</td>\n",
              "      <td>0</td>\n",
              "      <td>0</td>\n",
              "      <td>0</td>\n",
              "      <td>1</td>\n",
              "      <td>0</td>\n",
              "      <td>0</td>\n",
              "      <td>1</td>\n",
              "      <td>1</td>\n",
              "      <td>0</td>\n",
              "      <td>0</td>\n",
              "      <td>1</td>\n",
              "      <td>0</td>\n",
              "      <td>0</td>\n",
              "      <td>0</td>\n",
              "      <td>1</td>\n",
              "      <td>0</td>\n",
              "      <td>1</td>\n",
              "      <td>0</td>\n",
              "      <td>0</td>\n",
              "      <td>0</td>\n",
              "    </tr>\n",
              "    <tr>\n",
              "      <th>4</th>\n",
              "      <td>0</td>\n",
              "      <td>0</td>\n",
              "      <td>0</td>\n",
              "      <td>0</td>\n",
              "      <td>1</td>\n",
              "      <td>1</td>\n",
              "      <td>1</td>\n",
              "      <td>0.014085</td>\n",
              "      <td>0.521891</td>\n",
              "      <td>0.015330</td>\n",
              "      <td>1</td>\n",
              "      <td>0</td>\n",
              "      <td>0</td>\n",
              "      <td>0</td>\n",
              "      <td>1</td>\n",
              "      <td>0</td>\n",
              "      <td>1</td>\n",
              "      <td>0</td>\n",
              "      <td>0</td>\n",
              "      <td>1</td>\n",
              "      <td>0</td>\n",
              "      <td>0</td>\n",
              "      <td>1</td>\n",
              "      <td>0</td>\n",
              "      <td>0</td>\n",
              "      <td>1</td>\n",
              "      <td>0</td>\n",
              "      <td>0</td>\n",
              "      <td>1</td>\n",
              "      <td>0</td>\n",
              "      <td>0</td>\n",
              "      <td>1</td>\n",
              "      <td>0</td>\n",
              "      <td>0</td>\n",
              "      <td>1</td>\n",
              "      <td>0</td>\n",
              "      <td>0</td>\n",
              "      <td>0</td>\n",
              "      <td>0</td>\n",
              "      <td>1</td>\n",
              "      <td>0</td>\n",
              "    </tr>\n",
              "    <tr>\n",
              "      <th>...</th>\n",
              "      <td>...</td>\n",
              "      <td>...</td>\n",
              "      <td>...</td>\n",
              "      <td>...</td>\n",
              "      <td>...</td>\n",
              "      <td>...</td>\n",
              "      <td>...</td>\n",
              "      <td>...</td>\n",
              "      <td>...</td>\n",
              "      <td>...</td>\n",
              "      <td>...</td>\n",
              "      <td>...</td>\n",
              "      <td>...</td>\n",
              "      <td>...</td>\n",
              "      <td>...</td>\n",
              "      <td>...</td>\n",
              "      <td>...</td>\n",
              "      <td>...</td>\n",
              "      <td>...</td>\n",
              "      <td>...</td>\n",
              "      <td>...</td>\n",
              "      <td>...</td>\n",
              "      <td>...</td>\n",
              "      <td>...</td>\n",
              "      <td>...</td>\n",
              "      <td>...</td>\n",
              "      <td>...</td>\n",
              "      <td>...</td>\n",
              "      <td>...</td>\n",
              "      <td>...</td>\n",
              "      <td>...</td>\n",
              "      <td>...</td>\n",
              "      <td>...</td>\n",
              "      <td>...</td>\n",
              "      <td>...</td>\n",
              "      <td>...</td>\n",
              "      <td>...</td>\n",
              "      <td>...</td>\n",
              "      <td>...</td>\n",
              "      <td>...</td>\n",
              "      <td>...</td>\n",
              "    </tr>\n",
              "    <tr>\n",
              "      <th>7027</th>\n",
              "      <td>1</td>\n",
              "      <td>0</td>\n",
              "      <td>1</td>\n",
              "      <td>1</td>\n",
              "      <td>1</td>\n",
              "      <td>1</td>\n",
              "      <td>0</td>\n",
              "      <td>0.323944</td>\n",
              "      <td>0.662189</td>\n",
              "      <td>0.227521</td>\n",
              "      <td>0</td>\n",
              "      <td>0</td>\n",
              "      <td>1</td>\n",
              "      <td>1</td>\n",
              "      <td>0</td>\n",
              "      <td>0</td>\n",
              "      <td>0</td>\n",
              "      <td>0</td>\n",
              "      <td>1</td>\n",
              "      <td>1</td>\n",
              "      <td>0</td>\n",
              "      <td>0</td>\n",
              "      <td>0</td>\n",
              "      <td>0</td>\n",
              "      <td>1</td>\n",
              "      <td>0</td>\n",
              "      <td>0</td>\n",
              "      <td>1</td>\n",
              "      <td>0</td>\n",
              "      <td>0</td>\n",
              "      <td>1</td>\n",
              "      <td>0</td>\n",
              "      <td>0</td>\n",
              "      <td>1</td>\n",
              "      <td>0</td>\n",
              "      <td>1</td>\n",
              "      <td>0</td>\n",
              "      <td>0</td>\n",
              "      <td>0</td>\n",
              "      <td>0</td>\n",
              "      <td>1</td>\n",
              "    </tr>\n",
              "    <tr>\n",
              "      <th>7028</th>\n",
              "      <td>0</td>\n",
              "      <td>0</td>\n",
              "      <td>1</td>\n",
              "      <td>1</td>\n",
              "      <td>1</td>\n",
              "      <td>1</td>\n",
              "      <td>0</td>\n",
              "      <td>1.000000</td>\n",
              "      <td>0.845274</td>\n",
              "      <td>0.847461</td>\n",
              "      <td>0</td>\n",
              "      <td>0</td>\n",
              "      <td>1</td>\n",
              "      <td>0</td>\n",
              "      <td>1</td>\n",
              "      <td>0</td>\n",
              "      <td>1</td>\n",
              "      <td>0</td>\n",
              "      <td>0</td>\n",
              "      <td>0</td>\n",
              "      <td>0</td>\n",
              "      <td>1</td>\n",
              "      <td>0</td>\n",
              "      <td>0</td>\n",
              "      <td>1</td>\n",
              "      <td>1</td>\n",
              "      <td>0</td>\n",
              "      <td>0</td>\n",
              "      <td>0</td>\n",
              "      <td>0</td>\n",
              "      <td>1</td>\n",
              "      <td>0</td>\n",
              "      <td>0</td>\n",
              "      <td>1</td>\n",
              "      <td>0</td>\n",
              "      <td>1</td>\n",
              "      <td>0</td>\n",
              "      <td>0</td>\n",
              "      <td>1</td>\n",
              "      <td>0</td>\n",
              "      <td>0</td>\n",
              "    </tr>\n",
              "    <tr>\n",
              "      <th>7029</th>\n",
              "      <td>0</td>\n",
              "      <td>0</td>\n",
              "      <td>1</td>\n",
              "      <td>1</td>\n",
              "      <td>0</td>\n",
              "      <td>1</td>\n",
              "      <td>0</td>\n",
              "      <td>0.140845</td>\n",
              "      <td>0.112935</td>\n",
              "      <td>0.037809</td>\n",
              "      <td>0</td>\n",
              "      <td>1</td>\n",
              "      <td>0</td>\n",
              "      <td>1</td>\n",
              "      <td>0</td>\n",
              "      <td>0</td>\n",
              "      <td>0</td>\n",
              "      <td>0</td>\n",
              "      <td>1</td>\n",
              "      <td>1</td>\n",
              "      <td>0</td>\n",
              "      <td>0</td>\n",
              "      <td>1</td>\n",
              "      <td>0</td>\n",
              "      <td>0</td>\n",
              "      <td>1</td>\n",
              "      <td>0</td>\n",
              "      <td>0</td>\n",
              "      <td>1</td>\n",
              "      <td>0</td>\n",
              "      <td>0</td>\n",
              "      <td>1</td>\n",
              "      <td>0</td>\n",
              "      <td>0</td>\n",
              "      <td>1</td>\n",
              "      <td>0</td>\n",
              "      <td>0</td>\n",
              "      <td>0</td>\n",
              "      <td>0</td>\n",
              "      <td>1</td>\n",
              "      <td>0</td>\n",
              "    </tr>\n",
              "    <tr>\n",
              "      <th>7030</th>\n",
              "      <td>1</td>\n",
              "      <td>1</td>\n",
              "      <td>1</td>\n",
              "      <td>0</td>\n",
              "      <td>1</td>\n",
              "      <td>1</td>\n",
              "      <td>1</td>\n",
              "      <td>0.042254</td>\n",
              "      <td>0.558706</td>\n",
              "      <td>0.033210</td>\n",
              "      <td>0</td>\n",
              "      <td>0</td>\n",
              "      <td>1</td>\n",
              "      <td>0</td>\n",
              "      <td>1</td>\n",
              "      <td>0</td>\n",
              "      <td>1</td>\n",
              "      <td>0</td>\n",
              "      <td>0</td>\n",
              "      <td>1</td>\n",
              "      <td>0</td>\n",
              "      <td>0</td>\n",
              "      <td>1</td>\n",
              "      <td>0</td>\n",
              "      <td>0</td>\n",
              "      <td>1</td>\n",
              "      <td>0</td>\n",
              "      <td>0</td>\n",
              "      <td>1</td>\n",
              "      <td>0</td>\n",
              "      <td>0</td>\n",
              "      <td>1</td>\n",
              "      <td>0</td>\n",
              "      <td>0</td>\n",
              "      <td>1</td>\n",
              "      <td>0</td>\n",
              "      <td>0</td>\n",
              "      <td>0</td>\n",
              "      <td>0</td>\n",
              "      <td>0</td>\n",
              "      <td>1</td>\n",
              "    </tr>\n",
              "    <tr>\n",
              "      <th>7031</th>\n",
              "      <td>1</td>\n",
              "      <td>0</td>\n",
              "      <td>0</td>\n",
              "      <td>0</td>\n",
              "      <td>1</td>\n",
              "      <td>1</td>\n",
              "      <td>0</td>\n",
              "      <td>0.915493</td>\n",
              "      <td>0.869652</td>\n",
              "      <td>0.787641</td>\n",
              "      <td>1</td>\n",
              "      <td>0</td>\n",
              "      <td>0</td>\n",
              "      <td>0</td>\n",
              "      <td>1</td>\n",
              "      <td>0</td>\n",
              "      <td>0</td>\n",
              "      <td>0</td>\n",
              "      <td>1</td>\n",
              "      <td>1</td>\n",
              "      <td>0</td>\n",
              "      <td>0</td>\n",
              "      <td>0</td>\n",
              "      <td>0</td>\n",
              "      <td>1</td>\n",
              "      <td>0</td>\n",
              "      <td>0</td>\n",
              "      <td>1</td>\n",
              "      <td>0</td>\n",
              "      <td>0</td>\n",
              "      <td>1</td>\n",
              "      <td>0</td>\n",
              "      <td>0</td>\n",
              "      <td>1</td>\n",
              "      <td>0</td>\n",
              "      <td>0</td>\n",
              "      <td>1</td>\n",
              "      <td>1</td>\n",
              "      <td>0</td>\n",
              "      <td>0</td>\n",
              "      <td>0</td>\n",
              "    </tr>\n",
              "  </tbody>\n",
              "</table>\n",
              "<p>7032 rows × 41 columns</p>\n",
              "</div>"
            ],
            "text/plain": [
              "      gender  ...  PaymentMethod_Mailed check\n",
              "0          0  ...                           0\n",
              "1          1  ...                           1\n",
              "2          1  ...                           1\n",
              "3          1  ...                           0\n",
              "4          0  ...                           0\n",
              "...      ...  ...                         ...\n",
              "7027       1  ...                           1\n",
              "7028       0  ...                           0\n",
              "7029       0  ...                           0\n",
              "7030       1  ...                           1\n",
              "7031       1  ...                           0\n",
              "\n",
              "[7032 rows x 41 columns]"
            ]
          },
          "metadata": {
            "tags": []
          },
          "execution_count": 324
        }
      ]
    },
    {
      "cell_type": "code",
      "metadata": {
        "id": "LPGUn3myQMPz",
        "colab_type": "code",
        "outputId": "ad7f72bc-3c98-48be-916a-be1807a7aa59",
        "colab": {
          "base_uri": "https://localhost:8080/",
          "height": 721
        }
      },
      "source": [
        "#Plotting the Bar Plot to show the correlations between input variables and target output 'Churn'\n",
        "plt.figure(figsize=(20,10))\n",
        "ax = data_fin.corr()['Churn'].sort_values(ascending = False)\n",
        "ax.plot(kind='bar')\n",
        "plt.title('Correlation between input variables and Target output', fontsize=15)\n",
        "plt.xlabel(\"Feature names\", fontsize=15)\n",
        "plt.ylabel(\"Correlation Scores\", fontsize=15)          \n",
        "plt.xticks(rotation=90);"
      ],
      "execution_count": 325,
      "outputs": [
        {
          "output_type": "display_data",
          "data": {
            "image/png": "[encoded data removed]",
            "text/plain": [
              "<Figure size 1440x720 with 1 Axes>"
            ]
          },
          "metadata": {
            "tags": []
          }
        }
      ]
    },
    {
      "cell_type": "code",
      "metadata": {
        "id": "nkXwjQwFQgps",
        "colab_type": "code",
        "colab": {}
      },
      "source": [
        "X = data_fin.drop(columns='Churn')\n",
        "y = data_fin['Churn']"
      ],
      "execution_count": 0,
      "outputs": []
    },
    {
      "cell_type": "code",
      "metadata": {
        "id": "u1w32qSOQjYm",
        "colab_type": "code",
        "colab": {}
      },
      "source": [
        "from sklearn.linear_model import LogisticRegression\n",
        "from sklearn.feature_selection import RFE"
      ],
      "execution_count": 0,
      "outputs": []
    },
    {
      "cell_type": "code",
      "metadata": {
        "id": "K-odS5jKSca6",
        "colab_type": "code",
        "colab": {}
      },
      "source": [
        "# Using Recursive Feature Elimination method for finding the best combination of features\n",
        "\n",
        "#using Logistic Regression and using L2 regularization as penalty \n",
        "estimator = LogisticRegression(penalty='l2',solver='lbfgs',max_iter=1000)\n",
        "\n",
        "# using the n_features_to_select as default\n",
        "rfe = RFE(estimator,step=1)\n",
        "rfe_fit=rfe.fit(X,y)"
      ],
      "execution_count": 0,
      "outputs": []
    },
    {
      "cell_type": "code",
      "metadata": {
        "id": "YP3nxUrmSc17",
        "colab_type": "code",
        "outputId": "b1dab849-37da-497e-94e6-0271a11100c3",
        "colab": {
          "base_uri": "https://localhost:8080/",
          "height": 102
        }
      },
      "source": [
        "rfe_fit.support_"
      ],
      "execution_count": 329,
      "outputs": [
        {
          "output_type": "execute_result",
          "data": {
            "text/plain": [
              "array([False,  True, False,  True,  True,  True,  True,  True,  True,\n",
              "        True, False, False,  True,  True, False,  True, False, False,\n",
              "        True,  True, False, False,  True, False,  True, False, False,\n",
              "       False, False,  True, False, False,  True,  True, False,  True,\n",
              "       False, False,  True, False])"
            ]
          },
          "metadata": {
            "tags": []
          },
          "execution_count": 329
        }
      ]
    },
    {
      "cell_type": "code",
      "metadata": {
        "id": "eMkc-jwmS4NI",
        "colab_type": "code",
        "colab": {}
      },
      "source": [
        ""
      ],
      "execution_count": 0,
      "outputs": []
    },
    {
      "cell_type": "code",
      "metadata": {
        "id": "yOOIt1gQS4jw",
        "colab_type": "code",
        "outputId": "bf41b691-73fc-4e18-d00e-dd53f1454658",
        "colab": {
          "base_uri": "https://localhost:8080/",
          "height": 34
        }
      },
      "source": [
        "#Total features selected by RFE method\n",
        "rfe_fit.n_features_"
      ],
      "execution_count": 330,
      "outputs": [
        {
          "output_type": "execute_result",
          "data": {
            "text/plain": [
              "20"
            ]
          },
          "metadata": {
            "tags": []
          },
          "execution_count": 330
        }
      ]
    },
    {
      "cell_type": "code",
      "metadata": {
        "id": "DMwLw3UtS898",
        "colab_type": "code",
        "colab": {}
      },
      "source": [
        "df1_features = pd.DataFrame(rfe_fit.support_)\n",
        "df1_columns = pd.DataFrame(X.columns)\n",
        "df1_ranks = pd.DataFrame(rfe_fit.ranking_)\n",
        "featureScores_rfe = pd.concat([df1_columns,df1_features,df1_ranks],axis=1)\n",
        "featureScores_rfe.columns = ['features','Support', 'Ranking']"
      ],
      "execution_count": 0,
      "outputs": []
    },
    {
      "cell_type": "code",
      "metadata": {
        "id": "UHBIwB6DS9YK",
        "colab_type": "code",
        "outputId": "dd4aa35f-fb6f-49a2-fd6c-c40d80a5bba6",
        "colab": {
          "base_uri": "https://localhost:8080/",
          "height": 1000
        }
      },
      "source": [
        "#Showing the strength of all the features \n",
        "featureScores_rfe "
      ],
      "execution_count": 332,
      "outputs": [
        {
          "output_type": "execute_result",
          "data": {
            "text/html": [
              "<div>\n",
              "<style scoped>\n",
              "    .dataframe tbody tr th:only-of-type {\n",
              "        vertical-align: middle;\n",
              "    }\n",
              "\n",
              "    .dataframe tbody tr th {\n",
              "        vertical-align: top;\n",
              "    }\n",
              "\n",
              "    .dataframe thead th {\n",
              "        text-align: right;\n",
              "    }\n",
              "</style>\n",
              "<table border=\"1\" class=\"dataframe\">\n",
              "  <thead>\n",
              "    <tr style=\"text-align: right;\">\n",
              "      <th></th>\n",
              "      <th>features</th>\n",
              "      <th>Support</th>\n",
              "      <th>Ranking</th>\n",
              "    </tr>\n",
              "  </thead>\n",
              "  <tbody>\n",
              "    <tr>\n",
              "      <th>0</th>\n",
              "      <td>gender</td>\n",
              "      <td>False</td>\n",
              "      <td>18</td>\n",
              "    </tr>\n",
              "    <tr>\n",
              "      <th>1</th>\n",
              "      <td>SeniorCitizen</td>\n",
              "      <td>True</td>\n",
              "      <td>1</td>\n",
              "    </tr>\n",
              "    <tr>\n",
              "      <th>2</th>\n",
              "      <td>Partner</td>\n",
              "      <td>False</td>\n",
              "      <td>20</td>\n",
              "    </tr>\n",
              "    <tr>\n",
              "      <th>3</th>\n",
              "      <td>Dependents</td>\n",
              "      <td>True</td>\n",
              "      <td>1</td>\n",
              "    </tr>\n",
              "    <tr>\n",
              "      <th>4</th>\n",
              "      <td>PhoneService</td>\n",
              "      <td>True</td>\n",
              "      <td>1</td>\n",
              "    </tr>\n",
              "    <tr>\n",
              "      <th>5</th>\n",
              "      <td>PaperlessBilling</td>\n",
              "      <td>True</td>\n",
              "      <td>1</td>\n",
              "    </tr>\n",
              "    <tr>\n",
              "      <th>6</th>\n",
              "      <td>tenure</td>\n",
              "      <td>True</td>\n",
              "      <td>1</td>\n",
              "    </tr>\n",
              "    <tr>\n",
              "      <th>7</th>\n",
              "      <td>MonthlyCharges</td>\n",
              "      <td>True</td>\n",
              "      <td>1</td>\n",
              "    </tr>\n",
              "    <tr>\n",
              "      <th>8</th>\n",
              "      <td>TotalCharges</td>\n",
              "      <td>True</td>\n",
              "      <td>1</td>\n",
              "    </tr>\n",
              "    <tr>\n",
              "      <th>9</th>\n",
              "      <td>MultipleLines_No</td>\n",
              "      <td>True</td>\n",
              "      <td>1</td>\n",
              "    </tr>\n",
              "    <tr>\n",
              "      <th>10</th>\n",
              "      <td>MultipleLines_No phone service</td>\n",
              "      <td>False</td>\n",
              "      <td>8</td>\n",
              "    </tr>\n",
              "    <tr>\n",
              "      <th>11</th>\n",
              "      <td>MultipleLines_Yes</td>\n",
              "      <td>False</td>\n",
              "      <td>13</td>\n",
              "    </tr>\n",
              "    <tr>\n",
              "      <th>12</th>\n",
              "      <td>InternetService_DSL</td>\n",
              "      <td>True</td>\n",
              "      <td>1</td>\n",
              "    </tr>\n",
              "    <tr>\n",
              "      <th>13</th>\n",
              "      <td>InternetService_Fiber optic</td>\n",
              "      <td>True</td>\n",
              "      <td>1</td>\n",
              "    </tr>\n",
              "    <tr>\n",
              "      <th>14</th>\n",
              "      <td>InternetService_No</td>\n",
              "      <td>False</td>\n",
              "      <td>3</td>\n",
              "    </tr>\n",
              "    <tr>\n",
              "      <th>15</th>\n",
              "      <td>OnlineSecurity_No</td>\n",
              "      <td>True</td>\n",
              "      <td>1</td>\n",
              "    </tr>\n",
              "    <tr>\n",
              "      <th>16</th>\n",
              "      <td>OnlineSecurity_No internet service</td>\n",
              "      <td>False</td>\n",
              "      <td>7</td>\n",
              "    </tr>\n",
              "    <tr>\n",
              "      <th>17</th>\n",
              "      <td>OnlineSecurity_Yes</td>\n",
              "      <td>False</td>\n",
              "      <td>4</td>\n",
              "    </tr>\n",
              "    <tr>\n",
              "      <th>18</th>\n",
              "      <td>OnlineBackup_No</td>\n",
              "      <td>True</td>\n",
              "      <td>1</td>\n",
              "    </tr>\n",
              "    <tr>\n",
              "      <th>19</th>\n",
              "      <td>OnlineBackup_No internet service</td>\n",
              "      <td>True</td>\n",
              "      <td>1</td>\n",
              "    </tr>\n",
              "    <tr>\n",
              "      <th>20</th>\n",
              "      <td>OnlineBackup_Yes</td>\n",
              "      <td>False</td>\n",
              "      <td>19</td>\n",
              "    </tr>\n",
              "    <tr>\n",
              "      <th>21</th>\n",
              "      <td>DeviceProtection_No</td>\n",
              "      <td>False</td>\n",
              "      <td>16</td>\n",
              "    </tr>\n",
              "    <tr>\n",
              "      <th>22</th>\n",
              "      <td>DeviceProtection_No internet service</td>\n",
              "      <td>True</td>\n",
              "      <td>1</td>\n",
              "    </tr>\n",
              "    <tr>\n",
              "      <th>23</th>\n",
              "      <td>DeviceProtection_Yes</td>\n",
              "      <td>False</td>\n",
              "      <td>17</td>\n",
              "    </tr>\n",
              "    <tr>\n",
              "      <th>24</th>\n",
              "      <td>TechSupport_No</td>\n",
              "      <td>True</td>\n",
              "      <td>1</td>\n",
              "    </tr>\n",
              "    <tr>\n",
              "      <th>25</th>\n",
              "      <td>TechSupport_No internet service</td>\n",
              "      <td>False</td>\n",
              "      <td>2</td>\n",
              "    </tr>\n",
              "    <tr>\n",
              "      <th>26</th>\n",
              "      <td>TechSupport_Yes</td>\n",
              "      <td>False</td>\n",
              "      <td>6</td>\n",
              "    </tr>\n",
              "    <tr>\n",
              "      <th>27</th>\n",
              "      <td>StreamingTV_No</td>\n",
              "      <td>False</td>\n",
              "      <td>12</td>\n",
              "    </tr>\n",
              "    <tr>\n",
              "      <th>28</th>\n",
              "      <td>StreamingTV_No internet service</td>\n",
              "      <td>False</td>\n",
              "      <td>5</td>\n",
              "    </tr>\n",
              "    <tr>\n",
              "      <th>29</th>\n",
              "      <td>StreamingTV_Yes</td>\n",
              "      <td>True</td>\n",
              "      <td>1</td>\n",
              "    </tr>\n",
              "    <tr>\n",
              "      <th>30</th>\n",
              "      <td>StreamingMovies_No</td>\n",
              "      <td>False</td>\n",
              "      <td>10</td>\n",
              "    </tr>\n",
              "    <tr>\n",
              "      <th>31</th>\n",
              "      <td>StreamingMovies_No internet service</td>\n",
              "      <td>False</td>\n",
              "      <td>9</td>\n",
              "    </tr>\n",
              "    <tr>\n",
              "      <th>32</th>\n",
              "      <td>StreamingMovies_Yes</td>\n",
              "      <td>True</td>\n",
              "      <td>1</td>\n",
              "    </tr>\n",
              "    <tr>\n",
              "      <th>33</th>\n",
              "      <td>Contract_Month-to-month</td>\n",
              "      <td>True</td>\n",
              "      <td>1</td>\n",
              "    </tr>\n",
              "    <tr>\n",
              "      <th>34</th>\n",
              "      <td>Contract_One year</td>\n",
              "      <td>False</td>\n",
              "      <td>21</td>\n",
              "    </tr>\n",
              "    <tr>\n",
              "      <th>35</th>\n",
              "      <td>Contract_Two year</td>\n",
              "      <td>True</td>\n",
              "      <td>1</td>\n",
              "    </tr>\n",
              "    <tr>\n",
              "      <th>36</th>\n",
              "      <td>PaymentMethod_Bank transfer (automatic)</td>\n",
              "      <td>False</td>\n",
              "      <td>15</td>\n",
              "    </tr>\n",
              "    <tr>\n",
              "      <th>37</th>\n",
              "      <td>PaymentMethod_Credit card (automatic)</td>\n",
              "      <td>False</td>\n",
              "      <td>11</td>\n",
              "    </tr>\n",
              "    <tr>\n",
              "      <th>38</th>\n",
              "      <td>PaymentMethod_Electronic check</td>\n",
              "      <td>True</td>\n",
              "      <td>1</td>\n",
              "    </tr>\n",
              "    <tr>\n",
              "      <th>39</th>\n",
              "      <td>PaymentMethod_Mailed check</td>\n",
              "      <td>False</td>\n",
              "      <td>14</td>\n",
              "    </tr>\n",
              "  </tbody>\n",
              "</table>\n",
              "</div>"
            ],
            "text/plain": [
              "                                   features  Support  Ranking\n",
              "0                                    gender    False       18\n",
              "1                             SeniorCitizen     True        1\n",
              "2                                   Partner    False       20\n",
              "3                                Dependents     True        1\n",
              "4                              PhoneService     True        1\n",
              "5                          PaperlessBilling     True        1\n",
              "6                                    tenure     True        1\n",
              "7                            MonthlyCharges     True        1\n",
              "8                              TotalCharges     True        1\n",
              "9                          MultipleLines_No     True        1\n",
              "10           MultipleLines_No phone service    False        8\n",
              "11                        MultipleLines_Yes    False       13\n",
              "12                      InternetService_DSL     True        1\n",
              "13              InternetService_Fiber optic     True        1\n",
              "14                       InternetService_No    False        3\n",
              "15                        OnlineSecurity_No     True        1\n",
              "16       OnlineSecurity_No internet service    False        7\n",
              "17                       OnlineSecurity_Yes    False        4\n",
              "18                          OnlineBackup_No     True        1\n",
              "19         OnlineBackup_No internet service     True        1\n",
              "20                         OnlineBackup_Yes    False       19\n",
              "21                      DeviceProtection_No    False       16\n",
              "22     DeviceProtection_No internet service     True        1\n",
              "23                     DeviceProtection_Yes    False       17\n",
              "24                           TechSupport_No     True        1\n",
              "25          TechSupport_No internet service    False        2\n",
              "26                          TechSupport_Yes    False        6\n",
              "27                           StreamingTV_No    False       12\n",
              "28          StreamingTV_No internet service    False        5\n",
              "29                          StreamingTV_Yes     True        1\n",
              "30                       StreamingMovies_No    False       10\n",
              "31      StreamingMovies_No internet service    False        9\n",
              "32                      StreamingMovies_Yes     True        1\n",
              "33                  Contract_Month-to-month     True        1\n",
              "34                        Contract_One year    False       21\n",
              "35                        Contract_Two year     True        1\n",
              "36  PaymentMethod_Bank transfer (automatic)    False       15\n",
              "37    PaymentMethod_Credit card (automatic)    False       11\n",
              "38           PaymentMethod_Electronic check     True        1\n",
              "39               PaymentMethod_Mailed check    False       14"
            ]
          },
          "metadata": {
            "tags": []
          },
          "execution_count": 332
        }
      ]
    },
    {
      "cell_type": "code",
      "metadata": {
        "id": "s8s4_CpWTLPl",
        "colab_type": "code",
        "outputId": "2e73c4a3-6a84-42b5-a766-13e6777606d9",
        "colab": {
          "base_uri": "https://localhost:8080/",
          "height": 669
        }
      },
      "source": [
        "#Selecting only those features where it is marked True in the Support column and the Ranking is 1\n",
        "rfe_fea = featureScores_rfe[featureScores_rfe['Support']]\n",
        "rfe_fea"
      ],
      "execution_count": 333,
      "outputs": [
        {
          "output_type": "execute_result",
          "data": {
            "text/html": [
              "<div>\n",
              "<style scoped>\n",
              "    .dataframe tbody tr th:only-of-type {\n",
              "        vertical-align: middle;\n",
              "    }\n",
              "\n",
              "    .dataframe tbody tr th {\n",
              "        vertical-align: top;\n",
              "    }\n",
              "\n",
              "    .dataframe thead th {\n",
              "        text-align: right;\n",
              "    }\n",
              "</style>\n",
              "<table border=\"1\" class=\"dataframe\">\n",
              "  <thead>\n",
              "    <tr style=\"text-align: right;\">\n",
              "      <th></th>\n",
              "      <th>features</th>\n",
              "      <th>Support</th>\n",
              "      <th>Ranking</th>\n",
              "    </tr>\n",
              "  </thead>\n",
              "  <tbody>\n",
              "    <tr>\n",
              "      <th>1</th>\n",
              "      <td>SeniorCitizen</td>\n",
              "      <td>True</td>\n",
              "      <td>1</td>\n",
              "    </tr>\n",
              "    <tr>\n",
              "      <th>3</th>\n",
              "      <td>Dependents</td>\n",
              "      <td>True</td>\n",
              "      <td>1</td>\n",
              "    </tr>\n",
              "    <tr>\n",
              "      <th>4</th>\n",
              "      <td>PhoneService</td>\n",
              "      <td>True</td>\n",
              "      <td>1</td>\n",
              "    </tr>\n",
              "    <tr>\n",
              "      <th>5</th>\n",
              "      <td>PaperlessBilling</td>\n",
              "      <td>True</td>\n",
              "      <td>1</td>\n",
              "    </tr>\n",
              "    <tr>\n",
              "      <th>6</th>\n",
              "      <td>tenure</td>\n",
              "      <td>True</td>\n",
              "      <td>1</td>\n",
              "    </tr>\n",
              "    <tr>\n",
              "      <th>7</th>\n",
              "      <td>MonthlyCharges</td>\n",
              "      <td>True</td>\n",
              "      <td>1</td>\n",
              "    </tr>\n",
              "    <tr>\n",
              "      <th>8</th>\n",
              "      <td>TotalCharges</td>\n",
              "      <td>True</td>\n",
              "      <td>1</td>\n",
              "    </tr>\n",
              "    <tr>\n",
              "      <th>9</th>\n",
              "      <td>MultipleLines_No</td>\n",
              "      <td>True</td>\n",
              "      <td>1</td>\n",
              "    </tr>\n",
              "    <tr>\n",
              "      <th>12</th>\n",
              "      <td>InternetService_DSL</td>\n",
              "      <td>True</td>\n",
              "      <td>1</td>\n",
              "    </tr>\n",
              "    <tr>\n",
              "      <th>13</th>\n",
              "      <td>InternetService_Fiber optic</td>\n",
              "      <td>True</td>\n",
              "      <td>1</td>\n",
              "    </tr>\n",
              "    <tr>\n",
              "      <th>15</th>\n",
              "      <td>OnlineSecurity_No</td>\n",
              "      <td>True</td>\n",
              "      <td>1</td>\n",
              "    </tr>\n",
              "    <tr>\n",
              "      <th>18</th>\n",
              "      <td>OnlineBackup_No</td>\n",
              "      <td>True</td>\n",
              "      <td>1</td>\n",
              "    </tr>\n",
              "    <tr>\n",
              "      <th>19</th>\n",
              "      <td>OnlineBackup_No internet service</td>\n",
              "      <td>True</td>\n",
              "      <td>1</td>\n",
              "    </tr>\n",
              "    <tr>\n",
              "      <th>22</th>\n",
              "      <td>DeviceProtection_No internet service</td>\n",
              "      <td>True</td>\n",
              "      <td>1</td>\n",
              "    </tr>\n",
              "    <tr>\n",
              "      <th>24</th>\n",
              "      <td>TechSupport_No</td>\n",
              "      <td>True</td>\n",
              "      <td>1</td>\n",
              "    </tr>\n",
              "    <tr>\n",
              "      <th>29</th>\n",
              "      <td>StreamingTV_Yes</td>\n",
              "      <td>True</td>\n",
              "      <td>1</td>\n",
              "    </tr>\n",
              "    <tr>\n",
              "      <th>32</th>\n",
              "      <td>StreamingMovies_Yes</td>\n",
              "      <td>True</td>\n",
              "      <td>1</td>\n",
              "    </tr>\n",
              "    <tr>\n",
              "      <th>33</th>\n",
              "      <td>Contract_Month-to-month</td>\n",
              "      <td>True</td>\n",
              "      <td>1</td>\n",
              "    </tr>\n",
              "    <tr>\n",
              "      <th>35</th>\n",
              "      <td>Contract_Two year</td>\n",
              "      <td>True</td>\n",
              "      <td>1</td>\n",
              "    </tr>\n",
              "    <tr>\n",
              "      <th>38</th>\n",
              "      <td>PaymentMethod_Electronic check</td>\n",
              "      <td>True</td>\n",
              "      <td>1</td>\n",
              "    </tr>\n",
              "  </tbody>\n",
              "</table>\n",
              "</div>"
            ],
            "text/plain": [
              "                                features  Support  Ranking\n",
              "1                          SeniorCitizen     True        1\n",
              "3                             Dependents     True        1\n",
              "4                           PhoneService     True        1\n",
              "5                       PaperlessBilling     True        1\n",
              "6                                 tenure     True        1\n",
              "7                         MonthlyCharges     True        1\n",
              "8                           TotalCharges     True        1\n",
              "9                       MultipleLines_No     True        1\n",
              "12                   InternetService_DSL     True        1\n",
              "13           InternetService_Fiber optic     True        1\n",
              "15                     OnlineSecurity_No     True        1\n",
              "18                       OnlineBackup_No     True        1\n",
              "19      OnlineBackup_No internet service     True        1\n",
              "22  DeviceProtection_No internet service     True        1\n",
              "24                        TechSupport_No     True        1\n",
              "29                       StreamingTV_Yes     True        1\n",
              "32                   StreamingMovies_Yes     True        1\n",
              "33               Contract_Month-to-month     True        1\n",
              "35                     Contract_Two year     True        1\n",
              "38        PaymentMethod_Electronic check     True        1"
            ]
          },
          "metadata": {
            "tags": []
          },
          "execution_count": 333
        }
      ]
    },
    {
      "cell_type": "code",
      "metadata": {
        "id": "nBpyhIs5TgXU",
        "colab_type": "code",
        "colab": {}
      },
      "source": [
        "#@title Finalising all the 20 features whose support value was true"
      ],
      "execution_count": 0,
      "outputs": []
    },
    {
      "cell_type": "code",
      "metadata": {
        "id": "3X4IVXzCTLtT",
        "colab_type": "code",
        "outputId": "fc1f8526-d20c-4dcd-aeef-3ee2946db401",
        "colab": {
          "base_uri": "https://localhost:8080/",
          "height": 68
        }
      },
      "source": [
        "final_feature_list = list(rfe_fea['features'])\n",
        "final_df = X[final_feature_list]\n",
        "list(final_df)"
      ],
      "execution_count": 335,
      "outputs": [
        {
          "output_type": "execute_result",
          "data": {
            "text/html": [
              "['SeniorCitizen', 'Dependents', 'PhoneService', 'PaperlessBilling', 'tenure', 'MonthlyCharges', 'TotalCharges', 'MultipleLines_No', 'InternetService_DSL', 'InternetService_Fiber optic', 'OnlineSecurity_No', 'OnlineBackup_No', 'OnlineBackup_No internet service', 'DeviceProtection_No internet service', 'TechSupport_No', 'StreamingTV_Yes', 'StreamingMovies_Yes', 'Contract_Month-to-month', 'Contract_Two year', 'PaymentMethod_Electronic check']"
            ],
            "text/plain": [
              "['SeniorCitizen',\n",
              " 'Dependents',\n",
              " 'PhoneService',\n",
              " 'PaperlessBilling',\n",
              " 'tenure',\n",
              " 'MonthlyCharges',\n",
              " 'TotalCharges',\n",
              " 'MultipleLines_No',\n",
              " 'InternetService_DSL',\n",
              " 'InternetService_Fiber optic',\n",
              " 'OnlineSecurity_No',\n",
              " 'OnlineBackup_No',\n",
              " 'OnlineBackup_No internet service',\n",
              " 'DeviceProtection_No internet service',\n",
              " 'TechSupport_No',\n",
              " 'StreamingTV_Yes',\n",
              " 'StreamingMovies_Yes',\n",
              " 'Contract_Month-to-month',\n",
              " 'Contract_Two year',\n",
              " 'PaymentMethod_Electronic check']"
            ]
          },
          "metadata": {
            "tags": []
          },
          "execution_count": 335
        }
      ]
    },
    {
      "cell_type": "code",
      "metadata": {
        "id": "eSX7S2pEUgDV",
        "colab_type": "code",
        "colab": {}
      },
      "source": [
        "from sklearn.model_selection import train_test_split"
      ],
      "execution_count": 0,
      "outputs": []
    },
    {
      "cell_type": "code",
      "metadata": {
        "id": "9_pr61d9U__c",
        "colab_type": "code",
        "colab": {}
      },
      "source": [
        "\n",
        "# y = data_fin['Churn'] this is just for reference as it is already assigned before\n",
        "\n",
        "X_train, X_test, y_train, y_test = train_test_split(final_df, y, test_size=0.2, random_state=0)\n",
        "\n",
        "#converting the pandas dataframes into numpy matrices\n",
        "# X_train, X_test=np.array(X_train), np.array(X_test)\n",
        "# y_train, y_test=np.array(y_train), np.array(y_test)"
      ],
      "execution_count": 0,
      "outputs": []
    },
    {
      "cell_type": "code",
      "metadata": {
        "id": "U0ZfePT1rTmZ",
        "colab_type": "code",
        "colab": {}
      },
      "source": [
        "# Create data structures needing for training and testing.\n",
        "# The training data doesn't contain the column we are predicting,\n",
        "# 'COMPASS_determination', or the column we are using for evaluation of our\n",
        "# trained model, 'recidivism_within_2_years'.\n",
        "df_for_training = X_train\n",
        "train_size = int(len(df_for_training) * 0.8)\n",
        "\n",
        "train_data = df_for_training[:train_size]\n",
        "\n",
        "#labels are o or 1 [low - 0, otherwise 1]\n",
        "labels = y_train\n",
        "train_labels = labels[:train_size]\n",
        "\n",
        "\n",
        "#need to check this after first round of implementation\n",
        "# = np.r_[X_train, X_test]"
      ],
      "execution_count": 0,
      "outputs": []
    },
    {
      "cell_type": "code",
      "metadata": {
        "id": "5T2XThgosWX-",
        "colab_type": "code",
        "colab": {}
      },
      "source": [
        "# Create the model\n",
        "\n",
        "# This is the size of the array we'll be feeding into our model for each example\n",
        "input_size = len(train_data.iloc[0])\n",
        "\n",
        "model = Sequential()\n",
        "model.add(Dense(200, input_shape=(input_size,), activation='relu'))\n",
        "model.add(Dense(50, activation='relu'))\n",
        "model.add(Dense(25, activation='relu'))\n",
        "model.add(Dense(1, activation='sigmoid'))\n",
        "\n",
        "model.compile(loss='mean_squared_error', optimizer='adam')"
      ],
      "execution_count": 0,
      "outputs": []
    },
    {
      "cell_type": "code",
      "metadata": {
        "id": "fjgNhSCDsayt",
        "colab_type": "code",
        "outputId": "46b3d3f4-aaa6-42c1-a4ff-6cc6d63b6249",
        "colab": {
          "base_uri": "https://localhost:8080/",
          "height": 170
        }
      },
      "source": [
        "# Train the model\n",
        "model.fit(train_data.values, train_labels.values, epochs=4, batch_size=32, validation_split=0.1)"
      ],
      "execution_count": 340,
      "outputs": [
        {
          "output_type": "stream",
          "text": [
            "Epoch 1/4\n",
            "127/127 [==============================] - 0s 3ms/step - loss: 0.1558 - val_loss: 0.1440\n",
            "Epoch 2/4\n",
            "127/127 [==============================] - 0s 2ms/step - loss: 0.1370 - val_loss: 0.1362\n",
            "Epoch 3/4\n",
            "127/127 [==============================] - 0s 2ms/step - loss: 0.1353 - val_loss: 0.1411\n",
            "Epoch 4/4\n",
            "127/127 [==============================] - 0s 2ms/step - loss: 0.1348 - val_loss: 0.1401\n"
          ],
          "name": "stdout"
        },
        {
          "output_type": "execute_result",
          "data": {
            "text/plain": [
              "<tensorflow.python.keras.callbacks.History at 0x7fcc53fa8d68>"
            ]
          },
          "metadata": {
            "tags": []
          },
          "execution_count": 340
        }
      ]
    },
    {
      "cell_type": "code",
      "metadata": {
        "id": "lI18CwYiQotq",
        "colab_type": "code",
        "colab": {}
      },
      "source": [
        "# Create a SHAP explainer by passing a subset of our training data\n",
        "explainer = shap.DeepExplainer(model, train_data.values[:200])"
      ],
      "execution_count": 0,
      "outputs": []
    },
    {
      "cell_type": "code",
      "metadata": {
        "id": "iywHwbJJkeYG",
        "colab_type": "code",
        "outputId": "6933b787-88d1-4e76-c44d-42bee1e2be99",
        "colab": {
          "base_uri": "https://localhost:8080/",
          "height": 1000
        }
      },
      "source": [
        "# Explain predictions of the model on the first 5 examples from our training set\n",
        "# to test the SHAP explainer.\n",
        "shap_values = explainer.shap_values(train_data.values[:50])\n",
        "shap_values\n"
      ],
      "execution_count": 342,
      "outputs": [
        {
          "output_type": "execute_result",
          "data": {
            "text/html": [
              "[array([[-9.22545497e-03,  9.11275528e-03, -1.53952306e-03,\n",
              "         8.40939676e-03,  4.44823539e-03,  2.05738385e-03,\n",
              "         9.39465139e-03,  1.73613544e-02, -5.38068867e-02,\n",
              "        -3.84347466e-02, -1.18435211e-02,  3.87933961e-03,\n",
              "         1.00472234e-02,  6.24256927e-03, -3.84697035e-02,\n",
              "        -8.50546310e-03, -1.94253830e-02, -4.98166976e-02,\n",
              "         1.48248936e-02,  4.41340357e-02],\n",
              "       [-2.63751540e-03, -2.08343682e-02, -1.03208728e-03,\n",
              "        -1.87313468e-02, -7.57482651e-02, -1.09052760e-02,\n",
              "        -3.95825232e-02,  9.84063857e-03,  1.78767669e-02,\n",
              "         1.74504823e-02, -6.05529592e-03, -9.23347486e-03,\n",
              "         4.68870630e-03,  3.50275415e-03, -1.83842041e-02,\n",
              "         9.78363447e-03,  1.63562808e-02, -2.64355829e-02,\n",
              "        -4.76337584e-02, -1.36632155e-02],\n",
              "       [-2.29790684e-03, -1.48436940e-02, -5.43354640e-04,\n",
              "        -1.11178940e-02, -5.91570288e-02,  6.90877946e-03,\n",
              "         1.09011196e-05,  5.87935027e-03,  1.07422437e-02,\n",
              "        -1.44702410e-02, -1.89880967e-03, -2.56664934e-03,\n",
              "        -2.80259767e-02, -1.85285762e-02, -1.37761873e-02,\n",
              "        -2.89241688e-03, -5.59761069e-03, -2.44541974e-02,\n",
              "        -3.84214022e-02, -1.08445295e-02],\n",
              "       [-3.31453499e-03, -1.75469854e-02, -1.11122505e-03,\n",
              "        -1.35612886e-02, -4.60018872e-02,  9.01693064e-03,\n",
              "         5.29435039e-03, -8.26211552e-03,  1.45012122e-02,\n",
              "        -1.82876837e-02, -5.18178392e-03, -6.76500442e-03,\n",
              "        -3.30197674e-02, -1.97212497e-02, -1.45904246e-02,\n",
              "        -3.85686793e-03, -6.36838677e-03, -3.64065330e-02,\n",
              "         4.60919318e-03, -1.60179739e-02],\n",
              "       [-1.14346801e-02,  1.55258111e-02, -1.78881560e-03,\n",
              "         2.47687197e-02,  4.54764485e-02, -7.08268345e-03,\n",
              "         8.22707713e-03,  1.86836303e-02,  5.63585303e-02,\n",
              "         5.64389301e-02,  2.04211978e-02,  9.99731142e-03,\n",
              "         1.97460284e-02,  8.90988318e-03,  4.52032697e-02,\n",
              "         3.09221963e-02, -3.19236422e-02,  4.23936074e-02,\n",
              "         3.22236353e-02, -3.75500437e-02],\n",
              "       [-5.40853427e-03, -2.83260845e-02, -1.15708854e-03,\n",
              "        -2.69267127e-02,  4.63211126e-02,  1.75503785e-02,\n",
              "         2.00570580e-02, -9.95600809e-03,  2.84666775e-02,\n",
              "        -3.19196823e-02, -1.24481042e-02, -1.52321053e-02,\n",
              "        -4.51395505e-02, -3.67042032e-02, -3.04947619e-02,\n",
              "        -2.60622050e-03, -9.91631558e-03, -6.20195463e-02,\n",
              "         1.17523855e-02,  3.09800750e-02],\n",
              "       [-5.82090874e-03,  8.22812744e-03, -1.59905862e-03,\n",
              "        -2.00574341e-02,  5.81284243e-02,  1.53575268e-02,\n",
              "         1.95311060e-02, -1.59116024e-02,  2.74342376e-02,\n",
              "        -2.96146266e-02, -1.09094295e-02, -1.30822876e-02,\n",
              "        -4.73362100e-02, -2.98109740e-02, -2.49622136e-02,\n",
              "        -5.54082593e-03, -9.98496708e-03, -6.57695225e-02,\n",
              "         1.15438570e-02, -2.38158068e-02],\n",
              "       [-1.23700343e-02,  1.00882309e-02, -1.21753578e-03,\n",
              "         2.71857395e-02,  3.17210815e-02, -5.63402410e-03,\n",
              "         3.49029426e-03, -3.82004435e-02,  5.13392274e-02,\n",
              "         5.92984148e-02,  1.67711546e-02,  1.44955258e-02,\n",
              "         1.86492614e-02,  8.32163745e-03,  3.61566599e-02,\n",
              "        -2.39043519e-02,  4.16969417e-02,  4.65420722e-02,\n",
              "         3.14548254e-02, -3.99710417e-02],\n",
              "       [ 5.17759631e-02,  1.16263388e-02,  1.75979276e-02,\n",
              "        -4.74900886e-02, -4.45024794e-02,  8.63841028e-03,\n",
              "         1.06241121e-02,  2.68575573e-02, -7.88273426e-02,\n",
              "        -4.64233508e-02,  7.66673322e-04, -3.75016530e-02,\n",
              "         9.88973193e-03,  7.35941152e-03,  3.18348076e-02,\n",
              "        -9.64932598e-04, -1.62214137e-02,  2.93432403e-02,\n",
              "         2.23622644e-02,  4.20630894e-02],\n",
              "       [-6.98886778e-03,  8.78099545e-03, -1.29056812e-03,\n",
              "         2.83594002e-02,  1.54488096e-01, -1.10198478e-02,\n",
              "         4.23462577e-02, -3.27998041e-02,  5.00261855e-02,\n",
              "         6.17903238e-02,  1.36909739e-02, -2.78613149e-02,\n",
              "         1.55934212e-02,  1.18183430e-02,  4.13151375e-02,\n",
              "        -1.12356698e-02, -2.04258157e-02,  5.15044663e-02,\n",
              "         3.54682169e-02,  5.98956661e-02],\n",
              "       [-8.40235447e-03, -2.82504001e-02,  1.00500422e-02,\n",
              "        -2.51407066e-02,  4.13606091e-02,  4.47376691e-03,\n",
              "         1.96745538e-02,  9.32048399e-03, -6.88062316e-02,\n",
              "        -3.45542363e-02,  1.35390794e-03, -2.21536634e-02,\n",
              "         8.79607250e-03,  4.90849622e-03, -3.45016793e-02,\n",
              "        -1.47018295e-04, -9.56966646e-03,  1.61839352e-02,\n",
              "         1.41207563e-02, -2.24235605e-02],\n",
              "       [-2.39319806e-03, -1.46950578e-02, -6.88058240e-04,\n",
              "         4.67876541e-03, -6.64548988e-02,  6.38034947e-03,\n",
              "         1.22423014e-04,  7.41491119e-03,  1.14136897e-02,\n",
              "        -1.52671632e-02, -1.89877221e-03, -1.34348893e-03,\n",
              "        -2.89628711e-02, -1.81127778e-02, -1.58031507e-02,\n",
              "        -3.90570684e-03, -6.95414489e-03, -2.52102368e-02,\n",
              "        -4.02946336e-02, -1.24209834e-02],\n",
              "       [-2.70645800e-03,  4.32910322e-03, -8.09410478e-04,\n",
              "         4.31010806e-03, -7.07174261e-02,  6.67389387e-03,\n",
              "         5.09073676e-04,  9.41332235e-03,  1.23247315e-02,\n",
              "        -1.62776237e-02, -2.50673749e-03, -1.38976864e-03,\n",
              "        -2.94180134e-02, -1.94603518e-02, -1.74859119e-02,\n",
              "        -4.76008567e-03, -8.17308992e-03, -2.75678662e-02,\n",
              "        -4.53242097e-02, -1.25113802e-02],\n",
              "       [-1.27094306e-02,  1.28708033e-02,  3.89230093e-04,\n",
              "        -5.02972548e-02,  6.67313206e-02, -3.47076828e-03,\n",
              "         1.99313525e-02,  2.42003830e-02, -9.37360728e-02,\n",
              "        -5.02836752e-02,  1.29256129e-02,  2.83174007e-02,\n",
              "         1.39886352e-02,  7.63578334e-03,  2.85184039e-02,\n",
              "         1.07634290e-04,  2.46414463e-02,  3.03799113e-02,\n",
              "         2.24172910e-02, -3.14081622e-02],\n",
              "       [-6.86817319e-03,  7.55767787e-03,  4.82922156e-04,\n",
              "        -5.08390460e-02,  1.55301719e-01, -4.09733416e-03,\n",
              "         3.93339324e-02, -3.35151947e-02,  4.23103897e-02,\n",
              "         5.57899413e-02,  1.41339370e-02,  2.29401022e-02,\n",
              "         1.48658798e-02,  1.06944282e-02,  3.17262903e-02,\n",
              "        -1.00849402e-02, -1.85552117e-02,  5.14672745e-02,\n",
              "         3.38573202e-02,  5.69229663e-02],\n",
              "       [-1.19481620e-02,  1.40233014e-02, -7.93234326e-04,\n",
              "         1.30729920e-02,  9.66604201e-02,  1.09992252e-03,\n",
              "         3.34286851e-02,  1.33338065e-02, -8.65064317e-02,\n",
              "        -4.81513525e-02,  9.81676304e-03,  1.56087827e-02,\n",
              "         1.37889123e-02,  6.36717534e-03, -5.60409732e-02,\n",
              "         5.46106850e-03, -2.33128521e-02,  2.62537938e-02,\n",
              "         2.14047850e-02, -3.46543931e-02],\n",
              "       [-8.91086349e-03, -4.11435790e-02, -1.57258313e-03,\n",
              "        -4.31163205e-02, -9.14777127e-02, -7.17998958e-03,\n",
              "        -3.84642222e-02,  2.00019702e-02,  5.03314840e-02,\n",
              "         4.87733164e-02,  1.74562764e-02,  1.76100229e-02,\n",
              "         1.49007198e-02,  8.05661875e-03,  3.42278034e-02,\n",
              "         9.34656828e-03, -2.18593772e-02,  3.36772362e-02,\n",
              "         2.34705320e-02,  4.97068209e-02],\n",
              "       [-5.04523820e-03,  7.47003580e-03, -4.33405009e-04,\n",
              "        -2.06308098e-02, -7.98829227e-02, -1.02225585e-02,\n",
              "        -3.95211710e-02,  1.54645808e-02,  2.83241424e-02,\n",
              "         2.80373304e-02,  3.71165483e-03,  5.40413818e-03,\n",
              "         8.05977776e-03,  5.11230659e-03, -3.10848104e-02,\n",
              "         2.04150761e-02,  2.87774552e-02, -4.30162068e-02,\n",
              "        -7.33770997e-02, -2.04179576e-02],\n",
              "       [-4.06773869e-03,  7.28671276e-03, -1.34210803e-03,\n",
              "        -1.67808483e-02, -5.20995540e-02,  8.53038617e-03,\n",
              "         4.89360778e-03,  1.25252586e-02,  1.88419942e-02,\n",
              "        -2.08999283e-02, -6.51931391e-03, -3.17477544e-03,\n",
              "        -4.00691755e-02, -2.37243221e-02, -1.84030229e-02,\n",
              "        -5.36779155e-03, -9.40836247e-03, -4.05753869e-02,\n",
              "         7.10630054e-03, -1.68870780e-02],\n",
              "       [-1.12345867e-02,  7.58353338e-03, -6.00553656e-04,\n",
              "        -4.83012635e-02,  1.13578734e-01,  6.74339491e-03,\n",
              "         3.08125400e-02, -2.28309646e-02, -7.79420865e-02,\n",
              "        -4.68269359e-02,  8.50699118e-03, -3.41182043e-02,\n",
              "         1.09451749e-02,  6.54527767e-03,  2.17113621e-02,\n",
              "        -1.70547686e-03, -1.04819867e-02,  3.14116726e-02,\n",
              "         1.99330036e-02, -3.06443517e-02],\n",
              "       [-2.50207393e-03, -1.55360460e-02, -6.90621192e-04,\n",
              "        -1.47127723e-02, -3.49897845e-02,  9.80999655e-03,\n",
              "         5.09508361e-03, -6.97235321e-03,  1.32575377e-02,\n",
              "        -1.85281114e-02, -2.98133720e-03, -6.71097459e-03,\n",
              "        -3.01226361e-02, -2.17272234e-02, -1.74305656e-02,\n",
              "        -2.92782912e-03, -5.63892810e-03, -3.32380136e-02,\n",
              "        -4.84041607e-02,  1.43719832e-02],\n",
              "       [ 5.68404448e-02,  9.80509752e-03, -1.34512678e-03,\n",
              "        -4.90344250e-02,  1.24153917e-01,  1.11525708e-02,\n",
              "         3.60612297e-02, -2.90436149e-02, -7.01173746e-02,\n",
              "        -5.09717278e-02,  7.36619982e-03,  2.69865035e-02,\n",
              "         1.40863878e-02,  7.96388381e-03,  3.12124635e-02,\n",
              "        -8.74176823e-03, -1.94082623e-02,  4.84800520e-02,\n",
              "         3.06426778e-02, -3.70484755e-02],\n",
              "       [ 5.36937727e-02,  1.49845156e-02, -3.72619804e-03,\n",
              "         2.35483748e-02, -1.09951549e-01, -7.23288681e-03,\n",
              "        -4.01430833e-02,  3.28362763e-02,  4.92083681e-02,\n",
              "         4.92765222e-02, -2.61995712e-02, -2.69345976e-02,\n",
              "         1.39826795e-02,  1.03375557e-02,  3.90575344e-02,\n",
              "        -1.22236368e-02, -2.93266085e-02,  3.87621865e-02,\n",
              "         2.71210122e-02,  5.78479447e-02],\n",
              "       [-2.37423231e-03,  4.45930690e-03, -5.97281558e-04,\n",
              "        -1.11289946e-02, -6.72886967e-02,  7.33680481e-03,\n",
              "        -6.18848074e-04,  7.98699617e-03,  1.16058579e-02,\n",
              "        -1.52873719e-02, -2.34890572e-03, -2.31402687e-03,\n",
              "        -2.94935483e-02, -1.98870297e-02, -1.35094025e-02,\n",
              "        -3.64007705e-03, -6.36803541e-03, -2.59752320e-02,\n",
              "        -4.26820405e-02, -1.15113110e-02],\n",
              "       [-6.67077031e-03,  1.12443173e-02, -3.85374647e-03,\n",
              "         1.46466604e-02, -4.84080042e-02, -1.13791248e-02,\n",
              "        -2.78123857e-02, -1.88642098e-02,  3.85684022e-02,\n",
              "         4.52824740e-02, -1.82193924e-02,  8.63966185e-03,\n",
              "         1.15729966e-02,  8.41900502e-03, -3.88815240e-02,\n",
              "         2.69237168e-02, -2.24784129e-02, -6.35330193e-02,\n",
              "         1.84809644e-02,  4.63464771e-02],\n",
              "       [-1.02447696e-02, -2.73172978e-02, -1.65936247e-03,\n",
              "         1.60081879e-02, -9.39196455e-02, -2.89972431e-03,\n",
              "        -3.63862697e-02,  2.96071809e-02,  4.46956562e-02,\n",
              "         4.51112435e-02,  1.67655407e-02,  5.70711695e-03,\n",
              "         1.55362083e-02,  6.32073923e-03,  3.01383059e-02,\n",
              "        -1.62837961e-02,  4.29404422e-02, -6.42510979e-02,\n",
              "         1.92280486e-02, -3.97419033e-02],\n",
              "       [-1.17334032e-02,  8.99042549e-03, -4.26426412e-04,\n",
              "        -2.72440327e-02,  9.69423894e-02,  6.86131715e-03,\n",
              "         3.27914652e-02, -1.71627781e-02, -7.09018029e-02,\n",
              "        -4.14022759e-02,  6.30071109e-03,  1.70152414e-02,\n",
              "         1.23603507e-02,  5.76889019e-03, -4.23852475e-02,\n",
              "        -7.34636223e-03, -1.42296263e-02,  2.70171215e-02,\n",
              "         2.08523959e-02, -3.30099477e-02],\n",
              "       [ 1.52165196e-02, -1.73675103e-02, -1.20020938e-03,\n",
              "         6.04943906e-03, -5.63056220e-02, -8.78315234e-04,\n",
              "        -1.56801339e-02, -9.83075818e-03, -2.93517914e-02,\n",
              "        -2.22851306e-02, -4.77816467e-03,  4.12627866e-03,\n",
              "         4.05372731e-03,  2.75624223e-03, -2.11863042e-02,\n",
              "         1.42774092e-02,  1.79164383e-02, -3.13436857e-02,\n",
              "        -5.13258165e-02, -1.55867628e-02],\n",
              "       [ 4.64395458e-02, -4.47178782e-02, -2.79226629e-03,\n",
              "         2.39181626e-02, -8.77690233e-02, -2.11810530e-02,\n",
              "        -5.73832198e-02, -2.00340620e-02,  4.79463299e-02,\n",
              "         5.38744866e-02, -2.28428980e-02,  2.23041842e-02,\n",
              "         1.33127810e-02,  9.37407094e-03, -4.85841297e-02,\n",
              "         1.80219471e-02,  4.03905148e-02,  3.45356206e-02,\n",
              "         2.38615194e-02,  4.55380430e-02],\n",
              "       [-8.90453398e-03,  1.36180214e-02, -3.34845348e-03,\n",
              "         2.34080036e-02, -1.27294507e-01, -1.38192898e-02,\n",
              "        -6.60808132e-02,  2.78829320e-02,  4.85976422e-02,\n",
              "         4.38539044e-02, -2.79713837e-02, -1.96330685e-02,\n",
              "         1.17271313e-02,  8.78078178e-03,  1.96222529e-02,\n",
              "         2.12619011e-02,  3.39117826e-02, -5.18247509e-02,\n",
              "         1.81511590e-02,  4.40820660e-02],\n",
              "       [-1.27464189e-02,  1.42881109e-02, -2.48821325e-03,\n",
              "         2.69113148e-02, -4.95709101e-03, -1.19171083e-02,\n",
              "        -1.04650539e-02,  3.65475896e-02,  5.90427599e-02,\n",
              "         5.54480233e-02, -3.33621282e-02, -1.92903559e-02,\n",
              "         1.68475850e-02,  1.11511442e-02,  3.05478618e-02,\n",
              "        -1.30570498e-02,  3.91375523e-02,  3.84003118e-02,\n",
              "         2.81466129e-02, -3.77148293e-02],\n",
              "       [-3.93769084e-03,  7.27484955e-03, -1.88851587e-03,\n",
              "         1.07862937e-02, -1.11225206e-01, -1.36402296e-02,\n",
              "        -6.89919221e-02,  1.68174405e-02,  2.86471313e-02,\n",
              "         3.06865815e-02, -5.59481332e-03, -1.13995413e-02,\n",
              "         6.90143329e-03,  5.80485037e-03, -3.00168246e-02,\n",
              "         1.68526094e-02,  2.88513121e-02, -3.28485632e-02,\n",
              "        -6.71046924e-02,  2.62612316e-02],\n",
              "       [-4.03649966e-03,  6.19075456e-03, -1.21793486e-03,\n",
              "        -1.33774032e-02, -4.25147786e-02,  1.03616799e-02,\n",
              "         7.22555053e-03, -1.18628452e-02,  1.75795308e-02,\n",
              "        -2.12982346e-02, -5.19260040e-03, -6.99888671e-03,\n",
              "        -3.63201465e-02, -2.14906174e-02, -1.56027611e-02,\n",
              "        -5.49406306e-03, -7.56223340e-03, -4.26918723e-02,\n",
              "         6.41771401e-03, -1.76947199e-02],\n",
              "       [-2.97711520e-03,  3.88316304e-03, -6.51673138e-04,\n",
              "         4.36890177e-03, -6.41650133e-02,  1.51923457e-03,\n",
              "        -1.19093638e-02, -6.89769541e-03, -2.74914294e-02,\n",
              "        -2.11364756e-02,  3.66138160e-04,  3.12750350e-03,\n",
              "         3.13312321e-03,  2.15094462e-03, -1.94073256e-02,\n",
              "         1.15610943e-02, -8.65707078e-03, -2.73397537e-02,\n",
              "        -4.69803661e-02, -1.21930721e-02],\n",
              "       [-2.38438401e-03,  4.48232550e-03, -5.99490462e-04,\n",
              "        -1.11555425e-02, -6.62013283e-02,  7.35916037e-03,\n",
              "        -7.78524817e-04,  8.00038881e-03,  1.16976730e-02,\n",
              "        -1.53394293e-02, -2.38102234e-03, -2.35087372e-03,\n",
              "        -2.95796484e-02, -1.99934247e-02, -1.36543114e-02,\n",
              "        -3.64830774e-03, -6.38754150e-03, -2.61145660e-02,\n",
              "        -4.29215259e-02, -1.15687863e-02],\n",
              "       [-5.64064566e-03,  8.35819237e-03, -1.12159483e-03,\n",
              "         1.74928349e-02, -1.10986511e-01, -1.13724992e-02,\n",
              "        -4.98937539e-02, -2.62641595e-02,  3.76206845e-02,\n",
              "         4.25998269e-02,  6.09176140e-03, -1.92527928e-02,\n",
              "         9.67559979e-03,  6.24426022e-03,  2.04966338e-02,\n",
              "         2.41283348e-02,  3.00807694e-02, -5.11542031e-02,\n",
              "        -8.32340151e-02,  3.61150370e-02],\n",
              "       [-7.14224866e-03,  9.17087941e-03, -2.07037656e-03,\n",
              "        -1.51307425e-02, -1.02752849e-01, -8.06843971e-03,\n",
              "        -4.99098031e-02,  9.28976141e-03,  2.90313667e-02,\n",
              "         2.65139836e-02, -1.66934715e-02,  2.02953688e-03,\n",
              "         8.90536062e-03,  3.96424721e-03, -3.13209934e-02,\n",
              "         2.10900571e-02, -1.87194244e-02,  1.40990516e-02,\n",
              "         1.14639105e-02, -2.45749039e-02],\n",
              "       [-1.01386164e-02,  1.28953772e-02, -1.99125316e-03,\n",
              "        -2.79830556e-02,  1.07739445e-01,  2.75037209e-02,\n",
              "         3.51548163e-02, -1.72808146e-02,  4.79273714e-02,\n",
              "        -4.43418254e-02, -1.52363820e-02, -2.25702620e-02,\n",
              "        -6.14384588e-02, -3.58495717e-02, -3.66232803e-02,\n",
              "        -5.33281218e-03, -1.25584698e-02,  3.63722688e-02,\n",
              "         2.30239909e-02, -3.27082898e-02],\n",
              "       [-2.67953910e-03,  4.29091742e-03, -8.10686726e-04,\n",
              "         4.25326215e-03, -7.15914687e-02,  6.65986630e-03,\n",
              "        -5.07352245e-05,  9.32934079e-03,  1.21921115e-02,\n",
              "        -1.61560408e-02, -2.44710287e-03, -1.34435974e-03,\n",
              "        -2.92651940e-02, -1.93215443e-02, -1.73032527e-02,\n",
              "        -4.75516915e-03, -8.10373805e-03, -2.73191283e-02,\n",
              "        -4.49740226e-02, -1.23890005e-02],\n",
              "       [-2.98905886e-03,  5.06864961e-03, -8.20989513e-04,\n",
              "        -1.34413193e-02, -3.19282744e-03,  9.66616352e-03,\n",
              "         8.47103731e-03, -9.87155768e-03,  1.53080015e-02,\n",
              "        -1.86512488e-02, -4.92614406e-03, -6.48987496e-03,\n",
              "        -3.44221627e-02, -2.16517905e-02, -1.63684381e-02,\n",
              "        -4.38983450e-03, -7.11353273e-03, -3.90553690e-02,\n",
              "        -5.45391400e-02, -1.60132023e-02],\n",
              "       [-6.91185135e-03,  1.02341429e-02, -3.02998293e-04,\n",
              "        -4.53739647e-02, -8.46883122e-02, -1.54720735e-02,\n",
              "        -4.35453913e-02,  2.54919381e-02,  4.17858859e-02,\n",
              "         4.25651438e-02,  8.01925798e-03, -2.35309125e-02,\n",
              "         1.00429725e-02,  7.33851761e-03,  1.99250012e-02,\n",
              "         1.42597873e-02,  2.55316518e-02, -4.80158137e-02,\n",
              "        -8.21951234e-02,  3.24030084e-02],\n",
              "       [-9.42576368e-03,  1.69314074e-02,  4.67444865e-04,\n",
              "         3.33301936e-02, -4.55062066e-02, -1.98928402e-02,\n",
              "        -3.56818440e-02,  2.79410837e-02,  6.32902223e-02,\n",
              "         6.43224972e-02,  1.61724765e-02, -3.03988896e-02,\n",
              "         1.59907737e-02,  1.27756123e-02,  4.32634377e-02,\n",
              "         1.05043472e-02,  3.55384766e-02,  3.60213594e-02,\n",
              "         3.05021571e-02,  5.18169633e-02],\n",
              "       [-9.47130507e-03, -3.65748682e-02, -1.46361131e-04,\n",
              "         3.28681357e-02,  2.49341236e-02, -1.68054795e-02,\n",
              "        -3.24547580e-03, -2.37458071e-02,  5.70725943e-02,\n",
              "         6.23073671e-02,  2.04531358e-02,  2.96407290e-02,\n",
              "         1.73261512e-02,  1.25702051e-02,  4.56477746e-02,\n",
              "         1.84103181e-02,  3.51173781e-02,  4.84196567e-02,\n",
              "         3.32593821e-02,  5.77916396e-02],\n",
              "       [-9.43153499e-03, -4.53622423e-02, -4.04986753e-04,\n",
              "         3.13354512e-02, -2.75692636e-03, -1.20330219e-02,\n",
              "        -1.64618549e-02,  2.76984563e-02,  6.11694837e-02,\n",
              "         5.78707055e-02,  2.01751363e-02, -3.08400664e-02,\n",
              "         1.73012839e-02,  1.19424309e-02,  4.44990121e-02,\n",
              "        -4.77547351e-03,  3.33089242e-02,  4.25513590e-02,\n",
              "         3.07415036e-02,  5.98051049e-02],\n",
              "       [-1.26851043e-02,  1.07159276e-02, -1.45747496e-03,\n",
              "         2.35359068e-02,  6.37307977e-02, -2.56850618e-03,\n",
              "         2.19807039e-02, -2.27759175e-02, -9.45011371e-02,\n",
              "        -5.58971113e-02,  7.52522922e-03,  3.07019718e-02,\n",
              "         1.35930768e-02,  8.90545110e-03, -5.49276763e-02,\n",
              "         8.40420241e-03,  3.16356041e-02,  3.21072080e-02,\n",
              "         2.60662597e-02,  5.26074013e-02],\n",
              "       [ 4.39080775e-02,  1.50683660e-02, -1.38919464e-03,\n",
              "         2.14633076e-02, -1.57804083e-01, -1.95747731e-02,\n",
              "        -8.29824541e-02,  2.84463838e-02,  5.28898191e-02,\n",
              "         5.38924172e-02,  1.17332061e-02, -2.93029091e-02,\n",
              "         1.35841981e-02,  9.23511205e-03,  3.37587173e-02,\n",
              "         2.05660454e-02,  4.01638506e-02,  2.78661155e-02,\n",
              "         2.41053228e-02, -2.81396778e-02],\n",
              "       [-4.98790709e-03,  8.28618624e-03, -2.16429419e-03,\n",
              "         1.24199784e-02, -2.55880631e-02, -7.82151009e-03,\n",
              "        -1.53302157e-02, -2.08774825e-02,  3.13546916e-02,\n",
              "         4.09425792e-02, -1.28645861e-02,  8.33265952e-03,\n",
              "         9.82784663e-03,  7.84661023e-03, -3.76747965e-02,\n",
              "         2.63864526e-02, -1.98535145e-02, -6.39179241e-02,\n",
              "        -8.29979014e-02,  4.09539507e-02],\n",
              "       [ 4.60151613e-02,  9.18971116e-03, -1.59809128e-03,\n",
              "         2.39533031e-02,  1.23070610e-01, -2.18333107e-03,\n",
              "         3.25910029e-02, -2.92478063e-02,  3.97385239e-02,\n",
              "         5.52721586e-02,  1.25562889e-02,  1.57757169e-02,\n",
              "         1.60040725e-02,  9.09499533e-03,  3.93201541e-02,\n",
              "        -2.10898934e-02, -2.38541796e-02,  5.66888760e-02,\n",
              "         3.54555569e-02, -3.48706339e-02],\n",
              "       [-8.76065942e-03,  8.71244901e-03, -2.02518876e-03,\n",
              "         7.72526286e-03,  1.89497832e-02,  1.64336542e-02,\n",
              "         2.35488950e-02, -1.65294897e-02,  3.49601924e-02,\n",
              "        -3.58567313e-02, -1.41033631e-02, -1.30529496e-02,\n",
              "        -5.14494605e-02, -2.60994633e-02, -3.90054427e-02,\n",
              "        -1.09954861e-02, -1.65524765e-02,  2.45882968e-02,\n",
              "         1.54617215e-02, -2.89511160e-02],\n",
              "       [-3.22302098e-03, -1.95042168e-02, -8.08829818e-04,\n",
              "         7.90532396e-03, -9.25233563e-02, -8.75881495e-03,\n",
              "        -4.81860091e-02,  1.41775472e-02,  2.14233044e-02,\n",
              "         2.14870118e-02,  7.85432236e-04, -1.01008580e-02,\n",
              "         5.53899763e-03,  3.92168175e-03, -2.70518774e-02,\n",
              "         1.47313935e-02,  2.24627477e-02, -2.93140327e-02,\n",
              "        -5.74788538e-02, -1.69951586e-02]])]"
            ],
            "text/plain": [
              "[array([[-9.22545497e-03,  9.11275528e-03, -1.53952306e-03,\n",
              "          8.40939676e-03,  4.44823539e-03,  2.05738385e-03,\n",
              "          9.39465139e-03,  1.73613544e-02, -5.38068867e-02,\n",
              "         -3.84347466e-02, -1.18435211e-02,  3.87933961e-03,\n",
              "          1.00472234e-02,  6.24256927e-03, -3.84697035e-02,\n",
              "         -8.50546310e-03, -1.94253830e-02, -4.98166976e-02,\n",
              "          1.48248936e-02,  4.41340357e-02],\n",
              "        [-2.63751540e-03, -2.08343682e-02, -1.03208728e-03,\n",
              "         -1.87313468e-02, -7.57482651e-02, -1.09052760e-02,\n",
              "         -3.95825232e-02,  9.84063857e-03,  1.78767669e-02,\n",
              "          1.74504823e-02, -6.05529592e-03, -9.23347486e-03,\n",
              "          4.68870630e-03,  3.50275415e-03, -1.83842041e-02,\n",
              "          9.78363447e-03,  1.63562808e-02, -2.64355829e-02,\n",
              "         -4.76337584e-02, -1.36632155e-02],\n",
              "        [-2.29790684e-03, -1.48436940e-02, -5.43354640e-04,\n",
              "         -1.11178940e-02, -5.91570288e-02,  6.90877946e-03,\n",
              "          1.09011196e-05,  5.87935027e-03,  1.07422437e-02,\n",
              "         -1.44702410e-02, -1.89880967e-03, -2.56664934e-03,\n",
              "         -2.80259767e-02, -1.85285762e-02, -1.37761873e-02,\n",
              "         -2.89241688e-03, -5.59761069e-03, -2.44541974e-02,\n",
              "         -3.84214022e-02, -1.08445295e-02],\n",
              "        [-3.31453499e-03, -1.75469854e-02, -1.11122505e-03,\n",
              "         -1.35612886e-02, -4.60018872e-02,  9.01693064e-03,\n",
              "          5.29435039e-03, -8.26211552e-03,  1.45012122e-02,\n",
              "         -1.82876837e-02, -5.18178392e-03, -6.76500442e-03,\n",
              "         -3.30197674e-02, -1.97212497e-02, -1.45904246e-02,\n",
              "         -3.85686793e-03, -6.36838677e-03, -3.64065330e-02,\n",
              "          4.60919318e-03, -1.60179739e-02],\n",
              "        [-1.14346801e-02,  1.55258111e-02, -1.78881560e-03,\n",
              "          2.47687197e-02,  4.54764485e-02, -7.08268345e-03,\n",
              "          8.22707713e-03,  1.86836303e-02,  5.63585303e-02,\n",
              "          5.64389301e-02,  2.04211978e-02,  9.99731142e-03,\n",
              "          1.97460284e-02,  8.90988318e-03,  4.52032697e-02,\n",
              "          3.09221963e-02, -3.19236422e-02,  4.23936074e-02,\n",
              "          3.22236353e-02, -3.75500437e-02],\n",
              "        [-5.40853427e-03, -2.83260845e-02, -1.15708854e-03,\n",
              "         -2.69267127e-02,  4.63211126e-02,  1.75503785e-02,\n",
              "          2.00570580e-02, -9.95600809e-03,  2.84666775e-02,\n",
              "         -3.19196823e-02, -1.24481042e-02, -1.52321053e-02,\n",
              "         -4.51395505e-02, -3.67042032e-02, -3.04947619e-02,\n",
              "         -2.60622050e-03, -9.91631558e-03, -6.20195463e-02,\n",
              "          1.17523855e-02,  3.09800750e-02],\n",
              "        [-5.82090874e-03,  8.22812744e-03, -1.59905862e-03,\n",
              "         -2.00574341e-02,  5.81284243e-02,  1.53575268e-02,\n",
              "          1.95311060e-02, -1.59116024e-02,  2.74342376e-02,\n",
              "         -2.96146266e-02, -1.09094295e-02, -1.30822876e-02,\n",
              "         -4.73362100e-02, -2.98109740e-02, -2.49622136e-02,\n",
              "         -5.54082593e-03, -9.98496708e-03, -6.57695225e-02,\n",
              "          1.15438570e-02, -2.38158068e-02],\n",
              "        [-1.23700343e-02,  1.00882309e-02, -1.21753578e-03,\n",
              "          2.71857395e-02,  3.17210815e-02, -5.63402410e-03,\n",
              "          3.49029426e-03, -3.82004435e-02,  5.13392274e-02,\n",
              "          5.92984148e-02,  1.67711546e-02,  1.44955258e-02,\n",
              "          1.86492614e-02,  8.32163745e-03,  3.61566599e-02,\n",
              "         -2.39043519e-02,  4.16969417e-02,  4.65420722e-02,\n",
              "          3.14548254e-02, -3.99710417e-02],\n",
              "        [ 5.17759631e-02,  1.16263388e-02,  1.75979276e-02,\n",
              "         -4.74900886e-02, -4.45024794e-02,  8.63841028e-03,\n",
              "          1.06241121e-02,  2.68575573e-02, -7.88273426e-02,\n",
              "         -4.64233508e-02,  7.66673322e-04, -3.75016530e-02,\n",
              "          9.88973193e-03,  7.35941152e-03,  3.18348076e-02,\n",
              "         -9.64932598e-04, -1.62214137e-02,  2.93432403e-02,\n",
              "          2.23622644e-02,  4.20630894e-02],\n",
              "        [-6.98886778e-03,  8.78099545e-03, -1.29056812e-03,\n",
              "          2.83594002e-02,  1.54488096e-01, -1.10198478e-02,\n",
              "          4.23462577e-02, -3.27998041e-02,  5.00261855e-02,\n",
              "          6.17903238e-02,  1.36909739e-02, -2.78613149e-02,\n",
              "          1.55934212e-02,  1.18183430e-02,  4.13151375e-02,\n",
              "         -1.12356698e-02, -2.04258157e-02,  5.15044663e-02,\n",
              "          3.54682169e-02,  5.98956661e-02],\n",
              "        [-8.40235447e-03, -2.82504001e-02,  1.00500422e-02,\n",
              "         -2.51407066e-02,  4.13606091e-02,  4.47376691e-03,\n",
              "          1.96745538e-02,  9.32048399e-03, -6.88062316e-02,\n",
              "         -3.45542363e-02,  1.35390794e-03, -2.21536634e-02,\n",
              "          8.79607250e-03,  4.90849622e-03, -3.45016793e-02,\n",
              "         -1.47018295e-04, -9.56966646e-03,  1.61839352e-02,\n",
              "          1.41207563e-02, -2.24235605e-02],\n",
              "        [-2.39319806e-03, -1.46950578e-02, -6.88058240e-04,\n",
              "          4.67876541e-03, -6.64548988e-02,  6.38034947e-03,\n",
              "          1.22423014e-04,  7.41491119e-03,  1.14136897e-02,\n",
              "         -1.52671632e-02, -1.89877221e-03, -1.34348893e-03,\n",
              "         -2.89628711e-02, -1.81127778e-02, -1.58031507e-02,\n",
              "         -3.90570684e-03, -6.95414489e-03, -2.52102368e-02,\n",
              "         -4.02946336e-02, -1.24209834e-02],\n",
              "        [-2.70645800e-03,  4.32910322e-03, -8.09410478e-04,\n",
              "          4.31010806e-03, -7.07174261e-02,  6.67389387e-03,\n",
              "          5.09073676e-04,  9.41332235e-03,  1.23247315e-02,\n",
              "         -1.62776237e-02, -2.50673749e-03, -1.38976864e-03,\n",
              "         -2.94180134e-02, -1.94603518e-02, -1.74859119e-02,\n",
              "         -4.76008567e-03, -8.17308992e-03, -2.75678662e-02,\n",
              "         -4.53242097e-02, -1.25113802e-02],\n",
              "        [-1.27094306e-02,  1.28708033e-02,  3.89230093e-04,\n",
              "         -5.02972548e-02,  6.67313206e-02, -3.47076828e-03,\n",
              "          1.99313525e-02,  2.42003830e-02, -9.37360728e-02,\n",
              "         -5.02836752e-02,  1.29256129e-02,  2.83174007e-02,\n",
              "          1.39886352e-02,  7.63578334e-03,  2.85184039e-02,\n",
              "          1.07634290e-04,  2.46414463e-02,  3.03799113e-02,\n",
              "          2.24172910e-02, -3.14081622e-02],\n",
              "        [-6.86817319e-03,  7.55767787e-03,  4.82922156e-04,\n",
              "         -5.08390460e-02,  1.55301719e-01, -4.09733416e-03,\n",
              "          3.93339324e-02, -3.35151947e-02,  4.23103897e-02,\n",
              "          5.57899413e-02,  1.41339370e-02,  2.29401022e-02,\n",
              "          1.48658798e-02,  1.06944282e-02,  3.17262903e-02,\n",
              "         -1.00849402e-02, -1.85552117e-02,  5.14672745e-02,\n",
              "          3.38573202e-02,  5.69229663e-02],\n",
              "        [-1.19481620e-02,  1.40233014e-02, -7.93234326e-04,\n",
              "          1.30729920e-02,  9.66604201e-02,  1.09992252e-03,\n",
              "          3.34286851e-02,  1.33338065e-02, -8.65064317e-02,\n",
              "         -4.81513525e-02,  9.81676304e-03,  1.56087827e-02,\n",
              "          1.37889123e-02,  6.36717534e-03, -5.60409732e-02,\n",
              "          5.46106850e-03, -2.33128521e-02,  2.62537938e-02,\n",
              "          2.14047850e-02, -3.46543931e-02],\n",
              "        [-8.91086349e-03, -4.11435790e-02, -1.57258313e-03,\n",
              "         -4.31163205e-02, -9.14777127e-02, -7.17998958e-03,\n",
              "         -3.84642222e-02,  2.00019702e-02,  5.03314840e-02,\n",
              "          4.87733164e-02,  1.74562764e-02,  1.76100229e-02,\n",
              "          1.49007198e-02,  8.05661875e-03,  3.42278034e-02,\n",
              "          9.34656828e-03, -2.18593772e-02,  3.36772362e-02,\n",
              "          2.34705320e-02,  4.97068209e-02],\n",
              "        [-5.04523820e-03,  7.47003580e-03, -4.33405009e-04,\n",
              "         -2.06308098e-02, -7.98829227e-02, -1.02225585e-02,\n",
              "         -3.95211710e-02,  1.54645808e-02,  2.83241424e-02,\n",
              "          2.80373304e-02,  3.71165483e-03,  5.40413818e-03,\n",
              "          8.05977776e-03,  5.11230659e-03, -3.10848104e-02,\n",
              "          2.04150761e-02,  2.87774552e-02, -4.30162068e-02,\n",
              "         -7.33770997e-02, -2.04179576e-02],\n",
              "        [-4.06773869e-03,  7.28671276e-03, -1.34210803e-03,\n",
              "         -1.67808483e-02, -5.20995540e-02,  8.53038617e-03,\n",
              "          4.89360778e-03,  1.25252586e-02,  1.88419942e-02,\n",
              "         -2.08999283e-02, -6.51931391e-03, -3.17477544e-03,\n",
              "         -4.00691755e-02, -2.37243221e-02, -1.84030229e-02,\n",
              "         -5.36779155e-03, -9.40836247e-03, -4.05753869e-02,\n",
              "          7.10630054e-03, -1.68870780e-02],\n",
              "        [-1.12345867e-02,  7.58353338e-03, -6.00553656e-04,\n",
              "         -4.83012635e-02,  1.13578734e-01,  6.74339491e-03,\n",
              "          3.08125400e-02, -2.28309646e-02, -7.79420865e-02,\n",
              "         -4.68269359e-02,  8.50699118e-03, -3.41182043e-02,\n",
              "          1.09451749e-02,  6.54527767e-03,  2.17113621e-02,\n",
              "         -1.70547686e-03, -1.04819867e-02,  3.14116726e-02,\n",
              "          1.99330036e-02, -3.06443517e-02],\n",
              "        [-2.50207393e-03, -1.55360460e-02, -6.90621192e-04,\n",
              "         -1.47127723e-02, -3.49897845e-02,  9.80999655e-03,\n",
              "          5.09508361e-03, -6.97235321e-03,  1.32575377e-02,\n",
              "         -1.85281114e-02, -2.98133720e-03, -6.71097459e-03,\n",
              "         -3.01226361e-02, -2.17272234e-02, -1.74305656e-02,\n",
              "         -2.92782912e-03, -5.63892810e-03, -3.32380136e-02,\n",
              "         -4.84041607e-02,  1.43719832e-02],\n",
              "        [ 5.68404448e-02,  9.80509752e-03, -1.34512678e-03,\n",
              "         -4.90344250e-02,  1.24153917e-01,  1.11525708e-02,\n",
              "          3.60612297e-02, -2.90436149e-02, -7.01173746e-02,\n",
              "         -5.09717278e-02,  7.36619982e-03,  2.69865035e-02,\n",
              "          1.40863878e-02,  7.96388381e-03,  3.12124635e-02,\n",
              "         -8.74176823e-03, -1.94082623e-02,  4.84800520e-02,\n",
              "          3.06426778e-02, -3.70484755e-02],\n",
              "        [ 5.36937727e-02,  1.49845156e-02, -3.72619804e-03,\n",
              "          2.35483748e-02, -1.09951549e-01, -7.23288681e-03,\n",
              "         -4.01430833e-02,  3.28362763e-02,  4.92083681e-02,\n",
              "          4.92765222e-02, -2.61995712e-02, -2.69345976e-02,\n",
              "          1.39826795e-02,  1.03375557e-02,  3.90575344e-02,\n",
              "         -1.22236368e-02, -2.93266085e-02,  3.87621865e-02,\n",
              "          2.71210122e-02,  5.78479447e-02],\n",
              "        [-2.37423231e-03,  4.45930690e-03, -5.97281558e-04,\n",
              "         -1.11289946e-02, -6.72886967e-02,  7.33680481e-03,\n",
              "         -6.18848074e-04,  7.98699617e-03,  1.16058579e-02,\n",
              "         -1.52873719e-02, -2.34890572e-03, -2.31402687e-03,\n",
              "         -2.94935483e-02, -1.98870297e-02, -1.35094025e-02,\n",
              "         -3.64007705e-03, -6.36803541e-03, -2.59752320e-02,\n",
              "         -4.26820405e-02, -1.15113110e-02],\n",
              "        [-6.67077031e-03,  1.12443173e-02, -3.85374647e-03,\n",
              "          1.46466604e-02, -4.84080042e-02, -1.13791248e-02,\n",
              "         -2.78123857e-02, -1.88642098e-02,  3.85684022e-02,\n",
              "          4.52824740e-02, -1.82193924e-02,  8.63966185e-03,\n",
              "          1.15729966e-02,  8.41900502e-03, -3.88815240e-02,\n",
              "          2.69237168e-02, -2.24784129e-02, -6.35330193e-02,\n",
              "          1.84809644e-02,  4.63464771e-02],\n",
              "        [-1.02447696e-02, -2.73172978e-02, -1.65936247e-03,\n",
              "          1.60081879e-02, -9.39196455e-02, -2.89972431e-03,\n",
              "         -3.63862697e-02,  2.96071809e-02,  4.46956562e-02,\n",
              "          4.51112435e-02,  1.67655407e-02,  5.70711695e-03,\n",
              "          1.55362083e-02,  6.32073923e-03,  3.01383059e-02,\n",
              "         -1.62837961e-02,  4.29404422e-02, -6.42510979e-02,\n",
              "          1.92280486e-02, -3.97419033e-02],\n",
              "        [-1.17334032e-02,  8.99042549e-03, -4.26426412e-04,\n",
              "         -2.72440327e-02,  9.69423894e-02,  6.86131715e-03,\n",
              "          3.27914652e-02, -1.71627781e-02, -7.09018029e-02,\n",
              "         -4.14022759e-02,  6.30071109e-03,  1.70152414e-02,\n",
              "          1.23603507e-02,  5.76889019e-03, -4.23852475e-02,\n",
              "         -7.34636223e-03, -1.42296263e-02,  2.70171215e-02,\n",
              "          2.08523959e-02, -3.30099477e-02],\n",
              "        [ 1.52165196e-02, -1.73675103e-02, -1.20020938e-03,\n",
              "          6.04943906e-03, -5.63056220e-02, -8.78315234e-04,\n",
              "         -1.56801339e-02, -9.83075818e-03, -2.93517914e-02,\n",
              "         -2.22851306e-02, -4.77816467e-03,  4.12627866e-03,\n",
              "          4.05372731e-03,  2.75624223e-03, -2.11863042e-02,\n",
              "          1.42774092e-02,  1.79164383e-02, -3.13436857e-02,\n",
              "         -5.13258165e-02, -1.55867628e-02],\n",
              "        [ 4.64395458e-02, -4.47178782e-02, -2.79226629e-03,\n",
              "          2.39181626e-02, -8.77690233e-02, -2.11810530e-02,\n",
              "         -5.73832198e-02, -2.00340620e-02,  4.79463299e-02,\n",
              "          5.38744866e-02, -2.28428980e-02,  2.23041842e-02,\n",
              "          1.33127810e-02,  9.37407094e-03, -4.85841297e-02,\n",
              "          1.80219471e-02,  4.03905148e-02,  3.45356206e-02,\n",
              "          2.38615194e-02,  4.55380430e-02],\n",
              "        [-8.90453398e-03,  1.36180214e-02, -3.34845348e-03,\n",
              "          2.34080036e-02, -1.27294507e-01, -1.38192898e-02,\n",
              "         -6.60808132e-02,  2.78829320e-02,  4.85976422e-02,\n",
              "          4.38539044e-02, -2.79713837e-02, -1.96330685e-02,\n",
              "          1.17271313e-02,  8.78078178e-03,  1.96222529e-02,\n",
              "          2.12619011e-02,  3.39117826e-02, -5.18247509e-02,\n",
              "          1.81511590e-02,  4.40820660e-02],\n",
              "        [-1.27464189e-02,  1.42881109e-02, -2.48821325e-03,\n",
              "          2.69113148e-02, -4.95709101e-03, -1.19171083e-02,\n",
              "         -1.04650539e-02,  3.65475896e-02,  5.90427599e-02,\n",
              "          5.54480233e-02, -3.33621282e-02, -1.92903559e-02,\n",
              "          1.68475850e-02,  1.11511442e-02,  3.05478618e-02,\n",
              "         -1.30570498e-02,  3.91375523e-02,  3.84003118e-02,\n",
              "          2.81466129e-02, -3.77148293e-02],\n",
              "        [-3.93769084e-03,  7.27484955e-03, -1.88851587e-03,\n",
              "          1.07862937e-02, -1.11225206e-01, -1.36402296e-02,\n",
              "         -6.89919221e-02,  1.68174405e-02,  2.86471313e-02,\n",
              "          3.06865815e-02, -5.59481332e-03, -1.13995413e-02,\n",
              "          6.90143329e-03,  5.80485037e-03, -3.00168246e-02,\n",
              "          1.68526094e-02,  2.88513121e-02, -3.28485632e-02,\n",
              "         -6.71046924e-02,  2.62612316e-02],\n",
              "        [-4.03649966e-03,  6.19075456e-03, -1.21793486e-03,\n",
              "         -1.33774032e-02, -4.25147786e-02,  1.03616799e-02,\n",
              "          7.22555053e-03, -1.18628452e-02,  1.75795308e-02,\n",
              "         -2.12982346e-02, -5.19260040e-03, -6.99888671e-03,\n",
              "         -3.63201465e-02, -2.14906174e-02, -1.56027611e-02,\n",
              "         -5.49406306e-03, -7.56223340e-03, -4.26918723e-02,\n",
              "          6.41771401e-03, -1.76947199e-02],\n",
              "        [-2.97711520e-03,  3.88316304e-03, -6.51673138e-04,\n",
              "          4.36890177e-03, -6.41650133e-02,  1.51923457e-03,\n",
              "         -1.19093638e-02, -6.89769541e-03, -2.74914294e-02,\n",
              "         -2.11364756e-02,  3.66138160e-04,  3.12750350e-03,\n",
              "          3.13312321e-03,  2.15094462e-03, -1.94073256e-02,\n",
              "          1.15610943e-02, -8.65707078e-03, -2.73397537e-02,\n",
              "         -4.69803661e-02, -1.21930721e-02],\n",
              "        [-2.38438401e-03,  4.48232550e-03, -5.99490462e-04,\n",
              "         -1.11555425e-02, -6.62013283e-02,  7.35916037e-03,\n",
              "         -7.78524817e-04,  8.00038881e-03,  1.16976730e-02,\n",
              "         -1.53394293e-02, -2.38102234e-03, -2.35087372e-03,\n",
              "         -2.95796484e-02, -1.99934247e-02, -1.36543114e-02,\n",
              "         -3.64830774e-03, -6.38754150e-03, -2.61145660e-02,\n",
              "         -4.29215259e-02, -1.15687863e-02],\n",
              "        [-5.64064566e-03,  8.35819237e-03, -1.12159483e-03,\n",
              "          1.74928349e-02, -1.10986511e-01, -1.13724992e-02,\n",
              "         -4.98937539e-02, -2.62641595e-02,  3.76206845e-02,\n",
              "          4.25998269e-02,  6.09176140e-03, -1.92527928e-02,\n",
              "          9.67559979e-03,  6.24426022e-03,  2.04966338e-02,\n",
              "          2.41283348e-02,  3.00807694e-02, -5.11542031e-02,\n",
              "         -8.32340151e-02,  3.61150370e-02],\n",
              "        [-7.14224866e-03,  9.17087941e-03, -2.07037656e-03,\n",
              "         -1.51307425e-02, -1.02752849e-01, -8.06843971e-03,\n",
              "         -4.99098031e-02,  9.28976141e-03,  2.90313667e-02,\n",
              "          2.65139836e-02, -1.66934715e-02,  2.02953688e-03,\n",
              "          8.90536062e-03,  3.96424721e-03, -3.13209934e-02,\n",
              "          2.10900571e-02, -1.87194244e-02,  1.40990516e-02,\n",
              "          1.14639105e-02, -2.45749039e-02],\n",
              "        [-1.01386164e-02,  1.28953772e-02, -1.99125316e-03,\n",
              "         -2.79830556e-02,  1.07739445e-01,  2.75037209e-02,\n",
              "          3.51548163e-02, -1.72808146e-02,  4.79273714e-02,\n",
              "         -4.43418254e-02, -1.52363820e-02, -2.25702620e-02,\n",
              "         -6.14384588e-02, -3.58495717e-02, -3.66232803e-02,\n",
              "         -5.33281218e-03, -1.25584698e-02,  3.63722688e-02,\n",
              "          2.30239909e-02, -3.27082898e-02],\n",
              "        [-2.67953910e-03,  4.29091742e-03, -8.10686726e-04,\n",
              "          4.25326215e-03, -7.15914687e-02,  6.65986630e-03,\n",
              "         -5.07352245e-05,  9.32934079e-03,  1.21921115e-02,\n",
              "         -1.61560408e-02, -2.44710287e-03, -1.34435974e-03,\n",
              "         -2.92651940e-02, -1.93215443e-02, -1.73032527e-02,\n",
              "         -4.75516915e-03, -8.10373805e-03, -2.73191283e-02,\n",
              "         -4.49740226e-02, -1.23890005e-02],\n",
              "        [-2.98905886e-03,  5.06864961e-03, -8.20989513e-04,\n",
              "         -1.34413193e-02, -3.19282744e-03,  9.66616352e-03,\n",
              "          8.47103731e-03, -9.87155768e-03,  1.53080015e-02,\n",
              "         -1.86512488e-02, -4.92614406e-03, -6.48987496e-03,\n",
              "         -3.44221627e-02, -2.16517905e-02, -1.63684381e-02,\n",
              "         -4.38983450e-03, -7.11353273e-03, -3.90553690e-02,\n",
              "         -5.45391400e-02, -1.60132023e-02],\n",
              "        [-6.91185135e-03,  1.02341429e-02, -3.02998293e-04,\n",
              "         -4.53739647e-02, -8.46883122e-02, -1.54720735e-02,\n",
              "         -4.35453913e-02,  2.54919381e-02,  4.17858859e-02,\n",
              "          4.25651438e-02,  8.01925798e-03, -2.35309125e-02,\n",
              "          1.00429725e-02,  7.33851761e-03,  1.99250012e-02,\n",
              "          1.42597873e-02,  2.55316518e-02, -4.80158137e-02,\n",
              "         -8.21951234e-02,  3.24030084e-02],\n",
              "        [-9.42576368e-03,  1.69314074e-02,  4.67444865e-04,\n",
              "          3.33301936e-02, -4.55062066e-02, -1.98928402e-02,\n",
              "         -3.56818440e-02,  2.79410837e-02,  6.32902223e-02,\n",
              "          6.43224972e-02,  1.61724765e-02, -3.03988896e-02,\n",
              "          1.59907737e-02,  1.27756123e-02,  4.32634377e-02,\n",
              "          1.05043472e-02,  3.55384766e-02,  3.60213594e-02,\n",
              "          3.05021571e-02,  5.18169633e-02],\n",
              "        [-9.47130507e-03, -3.65748682e-02, -1.46361131e-04,\n",
              "          3.28681357e-02,  2.49341236e-02, -1.68054795e-02,\n",
              "         -3.24547580e-03, -2.37458071e-02,  5.70725943e-02,\n",
              "          6.23073671e-02,  2.04531358e-02,  2.96407290e-02,\n",
              "          1.73261512e-02,  1.25702051e-02,  4.56477746e-02,\n",
              "          1.84103181e-02,  3.51173781e-02,  4.84196567e-02,\n",
              "          3.32593821e-02,  5.77916396e-02],\n",
              "        [-9.43153499e-03, -4.53622423e-02, -4.04986753e-04,\n",
              "          3.13354512e-02, -2.75692636e-03, -1.20330219e-02,\n",
              "         -1.64618549e-02,  2.76984563e-02,  6.11694837e-02,\n",
              "          5.78707055e-02,  2.01751363e-02, -3.08400664e-02,\n",
              "          1.73012839e-02,  1.19424309e-02,  4.44990121e-02,\n",
              "         -4.77547351e-03,  3.33089242e-02,  4.25513590e-02,\n",
              "          3.07415036e-02,  5.98051049e-02],\n",
              "        [-1.26851043e-02,  1.07159276e-02, -1.45747496e-03,\n",
              "          2.35359068e-02,  6.37307977e-02, -2.56850618e-03,\n",
              "          2.19807039e-02, -2.27759175e-02, -9.45011371e-02,\n",
              "         -5.58971113e-02,  7.52522922e-03,  3.07019718e-02,\n",
              "          1.35930768e-02,  8.90545110e-03, -5.49276763e-02,\n",
              "          8.40420241e-03,  3.16356041e-02,  3.21072080e-02,\n",
              "          2.60662597e-02,  5.26074013e-02],\n",
              "        [ 4.39080775e-02,  1.50683660e-02, -1.38919464e-03,\n",
              "          2.14633076e-02, -1.57804083e-01, -1.95747731e-02,\n",
              "         -8.29824541e-02,  2.84463838e-02,  5.28898191e-02,\n",
              "          5.38924172e-02,  1.17332061e-02, -2.93029091e-02,\n",
              "          1.35841981e-02,  9.23511205e-03,  3.37587173e-02,\n",
              "          2.05660454e-02,  4.01638506e-02,  2.78661155e-02,\n",
              "          2.41053228e-02, -2.81396778e-02],\n",
              "        [-4.98790709e-03,  8.28618624e-03, -2.16429419e-03,\n",
              "          1.24199784e-02, -2.55880631e-02, -7.82151009e-03,\n",
              "         -1.53302157e-02, -2.08774825e-02,  3.13546916e-02,\n",
              "          4.09425792e-02, -1.28645861e-02,  8.33265952e-03,\n",
              "          9.82784663e-03,  7.84661023e-03, -3.76747965e-02,\n",
              "          2.63864526e-02, -1.98535145e-02, -6.39179241e-02,\n",
              "         -8.29979014e-02,  4.09539507e-02],\n",
              "        [ 4.60151613e-02,  9.18971116e-03, -1.59809128e-03,\n",
              "          2.39533031e-02,  1.23070610e-01, -2.18333107e-03,\n",
              "          3.25910029e-02, -2.92478063e-02,  3.97385239e-02,\n",
              "          5.52721586e-02,  1.25562889e-02,  1.57757169e-02,\n",
              "          1.60040725e-02,  9.09499533e-03,  3.93201541e-02,\n",
              "         -2.10898934e-02, -2.38541796e-02,  5.66888760e-02,\n",
              "          3.54555569e-02, -3.48706339e-02],\n",
              "        [-8.76065942e-03,  8.71244901e-03, -2.02518876e-03,\n",
              "          7.72526286e-03,  1.89497832e-02,  1.64336542e-02,\n",
              "          2.35488950e-02, -1.65294897e-02,  3.49601924e-02,\n",
              "         -3.58567313e-02, -1.41033631e-02, -1.30529496e-02,\n",
              "         -5.14494605e-02, -2.60994633e-02, -3.90054427e-02,\n",
              "         -1.09954861e-02, -1.65524765e-02,  2.45882968e-02,\n",
              "          1.54617215e-02, -2.89511160e-02],\n",
              "        [-3.22302098e-03, -1.95042168e-02, -8.08829818e-04,\n",
              "          7.90532396e-03, -9.25233563e-02, -8.75881495e-03,\n",
              "         -4.81860091e-02,  1.41775472e-02,  2.14233044e-02,\n",
              "          2.14870118e-02,  7.85432236e-04, -1.01008580e-02,\n",
              "          5.53899763e-03,  3.92168175e-03, -2.70518774e-02,\n",
              "          1.47313935e-02,  2.24627477e-02, -2.93140327e-02,\n",
              "         -5.74788538e-02, -1.69951586e-02]])]"
            ]
          },
          "metadata": {
            "tags": []
          },
          "execution_count": 342
        }
      ]
    },
    {
      "cell_type": "code",
      "metadata": {
        "id": "7mrY4ccJplMB",
        "colab_type": "code",
        "outputId": "6a637323-bcef-4915-8e88-5a2fddbc741a",
        "colab": {
          "base_uri": "https://localhost:8080/",
          "height": 34
        }
      },
      "source": [
        "print(np.shape(shap_values))"
      ],
      "execution_count": 343,
      "outputs": [
        {
          "output_type": "stream",
          "text": [
            "(1, 50, 20)\n"
          ],
          "name": "stdout"
        }
      ]
    },
    {
      "cell_type": "code",
      "metadata": {
        "id": "eBHp97e-Yyoj",
        "colab_type": "code",
        "outputId": "a14f11bf-73f2-40d0-a26c-cb2569d36cbf",
        "colab": {
          "base_uri": "https://localhost:8080/",
          "height": 581
        }
      },
      "source": [
        "shap.summary_plot(shap_values, train_data, plot_type=\"bar\")"
      ],
      "execution_count": 344,
      "outputs": [
        {
          "output_type": "display_data",
          "data": {
            "image/png": "[encoded data removed]",
            "text/plain": [
              "<Figure size 576x684 with 1 Axes>"
            ]
          },
          "metadata": {
            "tags": []
          }
        }
      ]
    },
    {
      "cell_type": "code",
      "metadata": {
        "id": "mfnhtx_lWHOo",
        "colab_type": "code",
        "colab": {
          "base_uri": "https://localhost:8080/",
          "height": 388
        },
        "outputId": "0f5ed2a4-8d8e-4a9c-82dc-618401093957"
      },
      "source": [
        "def ABS_SHAP(df_shap,df):\n",
        "    #import matplotlib as plt\n",
        "    # Make a copy of the input data\n",
        "    shap_v = pd.DataFrame(df_shap)\n",
        "    feature_list = df.columns\n",
        "    shap_v.columns = feature_list\n",
        "    df_v = df.copy().reset_index().drop('index',axis=1)\n",
        "    \n",
        "    # Determine the correlation in order to plot with different colors\n",
        "    corr_list = list()\n",
        "    for i in feature_list:\n",
        "        b = np.corrcoef(shap_v[i],df_v[i])[1][0]\n",
        "        corr_list.append(b)\n",
        "    corr_df = pd.concat([pd.Series(feature_list),pd.Series(corr_list)],axis=1).fillna(0)\n",
        "    # Make a data frame. Column 1 is the feature, and Column 2 is the correlation coefficient\n",
        "    corr_df.columns  = ['Variable','Corr']\n",
        "    corr_df['Sign'] = np.where(corr_df['Corr']>0,'red','blue')\n",
        "    \n",
        "    # Plot it\n",
        "    shap_abs = np.abs(shap_v)\n",
        "    k=pd.DataFrame(shap_abs.mean()).reset_index()\n",
        "    k.columns = ['Variable','SHAP_abs']\n",
        "    k2 = k.merge(corr_df,left_on = 'Variable',right_on='Variable',how='inner')\n",
        "    k2 = k2.sort_values(by='SHAP_abs',ascending = True)\n",
        "    colorlist = k2['Sign']\n",
        "    ax = k2.plot.barh(x='Variable',y='SHAP_abs',color = colorlist, figsize=(5,6),legend=False)\n",
        "    ax.set_xlabel(\"SHAP Value (Red = Positive Impact)\")\n",
        "    \n",
        "ABS_SHAP(shap_values[0], train_data[:50])"
      ],
      "execution_count": 345,
      "outputs": [
        {
          "output_type": "display_data",
          "data": {
            "image/png": "[encoded data removed]",
            "text/plain": [
              "<Figure size 360x432 with 1 Axes>"
            ]
          },
          "metadata": {
            "tags": []
          }
        }
      ]
    },
    {
      "cell_type": "code",
      "metadata": {
        "id": "Lzk9ljreyupR",
        "colab_type": "code",
        "outputId": "167daea2-f806-4a50-81ed-6b6614b7d625",
        "colab": {
          "base_uri": "https://localhost:8080/",
          "height": 68
        }
      },
      "source": [
        "list(train_data)"
      ],
      "execution_count": 346,
      "outputs": [
        {
          "output_type": "execute_result",
          "data": {
            "text/html": [
              "['SeniorCitizen', 'Dependents', 'PhoneService', 'PaperlessBilling', 'tenure', 'MonthlyCharges', 'TotalCharges', 'MultipleLines_No', 'InternetService_DSL', 'InternetService_Fiber optic', 'OnlineSecurity_No', 'OnlineBackup_No', 'OnlineBackup_No internet service', 'DeviceProtection_No internet service', 'TechSupport_No', 'StreamingTV_Yes', 'StreamingMovies_Yes', 'Contract_Month-to-month', 'Contract_Two year', 'PaymentMethod_Electronic check']"
            ],
            "text/plain": [
              "['SeniorCitizen',\n",
              " 'Dependents',\n",
              " 'PhoneService',\n",
              " 'PaperlessBilling',\n",
              " 'tenure',\n",
              " 'MonthlyCharges',\n",
              " 'TotalCharges',\n",
              " 'MultipleLines_No',\n",
              " 'InternetService_DSL',\n",
              " 'InternetService_Fiber optic',\n",
              " 'OnlineSecurity_No',\n",
              " 'OnlineBackup_No',\n",
              " 'OnlineBackup_No internet service',\n",
              " 'DeviceProtection_No internet service',\n",
              " 'TechSupport_No',\n",
              " 'StreamingTV_Yes',\n",
              " 'StreamingMovies_Yes',\n",
              " 'Contract_Month-to-month',\n",
              " 'Contract_Two year',\n",
              " 'PaymentMethod_Electronic check']"
            ]
          },
          "metadata": {
            "tags": []
          },
          "execution_count": 346
        }
      ]
    },
    {
      "cell_type": "code",
      "metadata": {
        "id": "yvBVy130zDQL",
        "colab_type": "code",
        "outputId": "d05d268b-95dc-41ec-d0c1-c766b8af2a18",
        "colab": {
          "base_uri": "https://localhost:8080/",
          "height": 340
        }
      },
      "source": [
        "shap.dependence_plot('tenure', shap_values[0], train_data[:50])"
      ],
      "execution_count": 347,
      "outputs": [
        {
          "output_type": "display_data",
          "data": {
            "image/png": "[encoded data removed]",
            "text/plain": [
              "<Figure size 540x360 with 2 Axes>"
            ]
          },
          "metadata": {
            "tags": []
          }
        }
      ]
    },
    {
      "cell_type": "code",
      "metadata": {
        "id": "eEd13N8cZ4RV",
        "colab_type": "code",
        "colab": {}
      },
      "source": [
        "#@title We can observe that, The function automatically includes another variable that your chosen variable interacts most with. The plot above shows there exists an approximately linear but negative relationship between “tenure” and the target variable. This negative relationship is already demonstrated in the variable importance plot Exhibit.“tenure” interacts with “MonthlyCharges” frequently"
      ],
      "execution_count": 0,
      "outputs": []
    },
    {
      "cell_type": "code",
      "metadata": {
        "id": "7DoKyy1Na90M",
        "colab_type": "code",
        "outputId": "f890854e-5216-410c-d554-ac638ad49078",
        "colab": {
          "base_uri": "https://localhost:8080/",
          "height": 341
        }
      },
      "source": [
        "shap.dependence_plot('Contract_Month-to-month', shap_values[0], train_data[:50])"
      ],
      "execution_count": 349,
      "outputs": [
        {
          "output_type": "display_data",
          "data": {
            "image/png": "[encoded data removed]",
            "text/plain": [
              "<Figure size 540x360 with 2 Axes>"
            ]
          },
          "metadata": {
            "tags": []
          }
        }
      ]
    },
    {
      "cell_type": "code",
      "metadata": {
        "id": "lmBOStgmy7Ra",
        "colab_type": "code",
        "outputId": "dd637e92-fa89-47fc-cc52-0334cfca578a",
        "colab": {
          "base_uri": "https://localhost:8080/",
          "height": 341
        }
      },
      "source": [
        "shap.dependence_plot('PaymentMethod_Electronic check', shap_values[0], train_data[:50])"
      ],
      "execution_count": 350,
      "outputs": [
        {
          "output_type": "display_data",
          "data": {
            "image/png": "[encoded data removed]",
            "text/plain": [
              "<Figure size 540x360 with 2 Axes>"
            ]
          },
          "metadata": {
            "tags": []
          }
        }
      ]
    },
    {
      "cell_type": "code",
      "metadata": {
        "id": "f923HIX4bMeq",
        "colab_type": "code",
        "colab": {}
      },
      "source": [
        "#@title The features PaymentMethod_Electronic check and Monthly_Charges interact the most"
      ],
      "execution_count": 0,
      "outputs": []
    },
    {
      "cell_type": "code",
      "metadata": {
        "id": "sJQx4va68gBq",
        "colab_type": "code",
        "colab": {}
      },
      "source": [
        "#  predictions = model.predict([X_test])"
      ],
      "execution_count": 0,
      "outputs": []
    },
    {
      "cell_type": "code",
      "metadata": {
        "id": "kU0p053SDRFW",
        "colab_type": "code",
        "colab": {
          "base_uri": "https://localhost:8080/",
          "height": 136
        },
        "outputId": "ca2bcaed-f0ed-41eb-eb2c-cccadbb5c095"
      },
      "source": [
        "# Evaluate the model on the test data using `evaluate`\n",
        "print('\\n# Evaluate on test data')\n",
        "results = model.evaluate(X_test, y_test, batch_size=128)\n",
        "print('test loss, test acc:', results)\n",
        "\n",
        "# Generate predictions (probabilities -- the output of the last layer)\n",
        "# on new data using `predict`\n",
        "print('\\n# Generate predictions for 3 samples')\n",
        "predictions = model.predict(X_test[:3])\n",
        "print('predictions shape:', predictions.shape)"
      ],
      "execution_count": 353,
      "outputs": [
        {
          "output_type": "stream",
          "text": [
            "\n",
            "# Evaluate on test data\n",
            "11/11 [==============================] - 0s 2ms/step - loss: 0.1386\n",
            "test loss, test acc: 0.13861499726772308\n",
            "\n",
            "# Generate predictions for 3 samples\n",
            "predictions shape: (3, 1)\n"
          ],
          "name": "stdout"
        }
      ]
    },
    {
      "cell_type": "code",
      "metadata": {
        "id": "Z698AP9SGi5Z",
        "colab_type": "code",
        "colab": {}
      },
      "source": [
        "pred = model.predict(X_test)"
      ],
      "execution_count": 0,
      "outputs": []
    },
    {
      "cell_type": "code",
      "metadata": {
        "id": "7wc00yyKMGra",
        "colab_type": "code",
        "colab": {
          "base_uri": "https://localhost:8080/",
          "height": 136
        },
        "outputId": "7dca10ec-c847-4508-9a69-e5eac7636b01"
      },
      "source": [
        "#np.round(prob)\n",
        "print(\"pred === \", pred)"
      ],
      "execution_count": 355,
      "outputs": [
        {
          "output_type": "stream",
          "text": [
            "pred ===  [[0.29350582]\n",
            " [0.13001505]\n",
            " [0.20234014]\n",
            " ...\n",
            " [0.7127038 ]\n",
            " [0.15578902]\n",
            " [0.49430192]]\n"
          ],
          "name": "stdout"
        }
      ]
    },
    {
      "cell_type": "code",
      "metadata": {
        "id": "Eu7iG8QtMP7i",
        "colab_type": "code",
        "colab": {}
      },
      "source": [
        "predictions = np.round(pred)"
      ],
      "execution_count": 0,
      "outputs": []
    },
    {
      "cell_type": "code",
      "metadata": {
        "id": "qBtp36BNMgJb",
        "colab_type": "code",
        "colab": {
          "base_uri": "https://localhost:8080/",
          "height": 136
        },
        "outputId": "84965914-9e1e-4cba-d9e4-55d93ef8dcac"
      },
      "source": [
        "print(\"pred === \", predictions)"
      ],
      "execution_count": 357,
      "outputs": [
        {
          "output_type": "stream",
          "text": [
            "pred ===  [[0.]\n",
            " [0.]\n",
            " [0.]\n",
            " ...\n",
            " [1.]\n",
            " [0.]\n",
            " [0.]]\n"
          ],
          "name": "stdout"
        }
      ]
    },
    {
      "cell_type": "code",
      "metadata": {
        "id": "yOu4CQNXHM9M",
        "colab_type": "code",
        "colab": {
          "base_uri": "https://localhost:8080/",
          "height": 34
        },
        "outputId": "419f1a48-2e4e-437c-c8e9-3776a40b5108"
      },
      "source": [
        "print(\"length of validation set === \", len(X_test))"
      ],
      "execution_count": 358,
      "outputs": [
        {
          "output_type": "stream",
          "text": [
            "length of validation set ===  1407\n"
          ],
          "name": "stdout"
        }
      ]
    },
    {
      "cell_type": "code",
      "metadata": {
        "id": "kzGkt5FUG3m9",
        "colab_type": "code",
        "colab": {
          "base_uri": "https://localhost:8080/",
          "height": 68
        },
        "outputId": "34e49249-6dce-4917-e4d2-5c4996705a9b"
      },
      "source": [
        "labels = y_test\n",
        "tf.math.confusion_matrix(\n",
        "    labels, predictions, num_classes=None, weights=None, dtype=tf.dtypes.int32,\n",
        "    name=None\n",
        ")\n"
      ],
      "execution_count": 359,
      "outputs": [
        {
          "output_type": "execute_result",
          "data": {
            "text/plain": [
              "<tf.Tensor: shape=(2, 2), dtype=int32, numpy=\n",
              "array([[930, 108],\n",
              "       [176, 193]], dtype=int32)>"
            ]
          },
          "metadata": {
            "tags": []
          },
          "execution_count": 359
        }
      ]
    },
    {
      "cell_type": "code",
      "metadata": {
        "id": "23SPwMi7NbFv",
        "colab_type": "code",
        "colab": {
          "base_uri": "https://localhost:8080/",
          "height": 265
        },
        "outputId": "18d4aa41-d2f1-4188-8383-15bb58b8b88a"
      },
      "source": [
        "\n",
        "columns = ['class %s' %(i) for i in list(ascii_uppercase)[0:len(np.unique(labels))]]\n",
        "\n",
        "confm = confusion_matrix(labels, predictions)\n",
        "df_cm = DataFrame(confm, index=columns, columns=columns)\n",
        "\n",
        "ax = sns.heatmap(df_cm, cmap='Oranges', annot=True, fmt='d')"
      ],
      "execution_count": 360,
      "outputs": [
        {
          "output_type": "display_data",
          "data": {
            "image/png": "[encoded data removed]",
            "text/plain": [
              "<Figure size 432x288 with 2 Axes>"
            ]
          },
          "metadata": {
            "tags": []
          }
        }
      ]
    },
    {
      "cell_type": "code",
      "metadata": {
        "id": "p9r9je9aIeTO",
        "colab_type": "code",
        "colab": {
          "base_uri": "https://localhost:8080/",
          "height": 85
        },
        "outputId": "283cc71c-3b69-439f-8e64-4a9b1b24b9f3"
      },
      "source": [
        "# accuracy: (tp + tn) / (p + n)\n",
        "accuracy = accuracy_score(labels, predictions)\n",
        "print('Accuracy: %f' % accuracy)\n",
        "# precision tp / (tp + fp)\n",
        "precision = precision_score(labels, predictions)\n",
        "print('Precision: %f' % precision)\n",
        "# recall: tp / (tp + fn)\n",
        "recall = recall_score(labels, predictions)\n",
        "print('Recall: %f' % recall)\n",
        "# f1: 2 tp / (2 tp + fp + fn)\n",
        "f1 = f1_score(labels, predictions)\n",
        "print('F1 score: %f' % f1)"
      ],
      "execution_count": 361,
      "outputs": [
        {
          "output_type": "stream",
          "text": [
            "Accuracy: 0.798152\n",
            "Precision: 0.641196\n",
            "Recall: 0.523035\n",
            "F1 score: 0.576119\n"
          ],
          "name": "stdout"
        }
      ]
    },
    {
      "cell_type": "code",
      "metadata": {
        "id": "jofdpVHpR59i",
        "colab_type": "code",
        "colab": {
          "base_uri": "https://localhost:8080/",
          "height": 170
        },
        "outputId": "b0db5f1d-83d5-4ccd-af99-061acbf01a64"
      },
      "source": [
        "print(classification_report(labels,predictions))"
      ],
      "execution_count": 362,
      "outputs": [
        {
          "output_type": "stream",
          "text": [
            "              precision    recall  f1-score   support\n",
            "\n",
            "           0       0.84      0.90      0.87      1038\n",
            "           1       0.64      0.52      0.58       369\n",
            "\n",
            "    accuracy                           0.80      1407\n",
            "   macro avg       0.74      0.71      0.72      1407\n",
            "weighted avg       0.79      0.80      0.79      1407\n",
            "\n"
          ],
          "name": "stdout"
        }
      ]
    },
    {
      "cell_type": "markdown",
      "metadata": {
        "id": "_iFfsIevZDlY",
        "colab_type": "text"
      },
      "source": [
        "if we look through the dataset available, For the feature column 'Churn', there is uneqal distribution of data for label 'Yes' and 'No'. To avoid the Target variable imbalance we can feed in more data to the model so that our model can train and learn the pattern for classifying Churn customer or Non Churn customer, much more efficiently. This could be done using SMOTE( synthetic minority Over-sampling Technique)."
      ]
    },
    {
      "cell_type": "markdown",
      "metadata": {
        "id": "DSBrwKmgStvq",
        "colab_type": "text"
      },
      "source": [
        "So our predictions are almost 81% accurate, i.e. we have identified 80% of the churn rate correctly. So with the final objective to reduce churn and take the right preventing actions in time, we want to know which independent variables have the most influence on our predicted outcome. Therefore we  use SHAP Library to indentify the features which impact positively to the model prediction."
      ]
    },
    {
      "cell_type": "markdown",
      "metadata": {
        "id": "z_1eiyyxRpFM",
        "colab_type": "text"
      },
      "source": [
        ""
      ]
    },
    {
      "cell_type": "code",
      "metadata": {
        "id": "94JgYQ1E0AdL",
        "colab_type": "code",
        "outputId": "77bc5c89-f2b7-474f-e36c-78953018b43c",
        "colab": {
          "base_uri": "https://localhost:8080/",
          "height": 388
        }
      },
      "source": [
        "explainer = shap.DeepExplainer(model, X_test.values[:200])\n",
        "\n",
        "# Explain predictions of the model on the first 5 examples from our training set\n",
        "# to test the SHAP explainer.\n",
        "shap_values = explainer.shap_values(X_test.values[:50])\n",
        "shap_values\n",
        "    \n",
        "ABS_SHAP(shap_values[0], X_test[:50])"
      ],
      "execution_count": 363,
      "outputs": [
        {
          "output_type": "display_data",
          "data": {
            "image/png": "[encoded data removed]",
            "text/plain": [
              "<Figure size 360x432 with 1 Axes>"
            ]
          },
          "metadata": {
            "tags": []
          }
        }
      ]
    },
    {
      "cell_type": "markdown",
      "metadata": {
        "id": "KN5weNsBYMcg",
        "colab_type": "text"
      },
      "source": [
        "Customers with negative values(highlighted in blue) show that they are unlikely to churn while those with positive values(highlighted in red) shows they are likely to churn. These are the findings in my analysis."
      ]
    }
  ]
}